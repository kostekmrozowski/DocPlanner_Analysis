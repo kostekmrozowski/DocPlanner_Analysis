{
 "cells": [
  {
   "cell_type": "markdown",
   "id": "4d198c54-df02-4411-861c-98889c791b67",
   "metadata": {},
   "source": [
    "## Pricing Analysis - Aggressive Approach"
   ]
  },
  {
   "cell_type": "markdown",
   "id": "2a3c6833-8f4c-4274-94c4-9434c86ba360",
   "metadata": {},
   "source": [
    "### Importing Libraries and Data"
   ]
  },
  {
   "cell_type": "code",
   "execution_count": 78,
   "id": "197ed1b8-3318-4622-990a-46c8f0efac53",
   "metadata": {},
   "outputs": [],
   "source": [
    "import pandas as pd\n",
    "import numpy as np\n",
    "import matplotlib.pyplot as plt\n",
    "import seaborn as sns"
   ]
  },
  {
   "cell_type": "code",
   "execution_count": 79,
   "id": "fbf98738-a978-4092-90bc-7ccfc32eacfb",
   "metadata": {},
   "outputs": [],
   "source": [
    "df = pd.read_csv(\"./Cleaned_data_pricing.csv\", encoding=\"utf-8\")"
   ]
  },
  {
   "cell_type": "code",
   "execution_count": 80,
   "id": "68030086-7aaa-4ca6-9a7b-02aa93a3603b",
   "metadata": {},
   "outputs": [
    {
     "name": "stdout",
     "output_type": "stream",
     "text": [
      "<class 'pandas.core.frame.DataFrame'>\n",
      "RangeIndex: 500 entries, 0 to 499\n",
      "Data columns (total 13 columns):\n",
      " #   Column                   Non-Null Count  Dtype \n",
      "---  ------                   --------------  ----- \n",
      " 0   customer_id              500 non-null    int64 \n",
      " 1   cohort                   500 non-null    object\n",
      " 2   price                    500 non-null    int64 \n",
      " 3   price_name               500 non-null    object\n",
      " 4   commercial_type          500 non-null    object\n",
      " 5   invoicing_period_length  500 non-null    int64 \n",
      " 6   next_invoice_at          500 non-null    object\n",
      " 7   avg_3m_admin_bookings    500 non-null    int64 \n",
      " 8   avg_3m_user_bookings     500 non-null    int64 \n",
      " 9   city                     500 non-null    object\n",
      " 10  city_id                  500 non-null    int64 \n",
      " 11  specialization_name      500 non-null    object\n",
      " 12  specialization_id        500 non-null    int64 \n",
      "dtypes: int64(7), object(6)\n",
      "memory usage: 50.9+ KB\n"
     ]
    }
   ],
   "source": [
    "df.info()"
   ]
  },
  {
   "cell_type": "markdown",
   "id": "a56557cd-f093-4ac3-a1e1-06b3d175e29e",
   "metadata": {},
   "source": [
    "\"Recognized_mrr\" should be understood here as recognized monthly reccuring revenue. \n",
    "I calculated it by dividing a price by invoicing period leng"
   ]
  },
  {
   "cell_type": "code",
   "execution_count": 81,
   "id": "a4011853-63eb-4da9-bf10-fa31c0d9c8a1",
   "metadata": {},
   "outputs": [],
   "source": [
    "df[\"recognized_mrr\"] = df[\"price\"] / df[\"invoicing_period_length\"]"
   ]
  },
  {
   "cell_type": "code",
   "execution_count": 82,
   "id": "6fc4432b-e9a3-410b-8b93-56005b341914",
   "metadata": {},
   "outputs": [
    {
     "data": {
      "text/html": [
       "<div>\n",
       "<style scoped>\n",
       "    .dataframe tbody tr th:only-of-type {\n",
       "        vertical-align: middle;\n",
       "    }\n",
       "\n",
       "    .dataframe tbody tr th {\n",
       "        vertical-align: top;\n",
       "    }\n",
       "\n",
       "    .dataframe thead th {\n",
       "        text-align: right;\n",
       "    }\n",
       "</style>\n",
       "<table border=\"1\" class=\"dataframe\">\n",
       "  <thead>\n",
       "    <tr style=\"text-align: right;\">\n",
       "      <th></th>\n",
       "      <th>customer_id</th>\n",
       "      <th>cohort</th>\n",
       "      <th>price</th>\n",
       "      <th>price_name</th>\n",
       "      <th>commercial_type</th>\n",
       "      <th>invoicing_period_length</th>\n",
       "      <th>next_invoice_at</th>\n",
       "      <th>avg_3m_admin_bookings</th>\n",
       "      <th>avg_3m_user_bookings</th>\n",
       "      <th>city</th>\n",
       "      <th>city_id</th>\n",
       "      <th>specialization_name</th>\n",
       "      <th>specialization_id</th>\n",
       "      <th>recognized_mrr</th>\n",
       "    </tr>\n",
       "  </thead>\n",
       "  <tbody>\n",
       "    <tr>\n",
       "      <th>32</th>\n",
       "      <td>137</td>\n",
       "      <td>01/11/2024</td>\n",
       "      <td>127</td>\n",
       "      <td>Platin 127€ monthly (20% discount)</td>\n",
       "      <td>jameda_platin</td>\n",
       "      <td>1</td>\n",
       "      <td>25/02/2025 00:00</td>\n",
       "      <td>0</td>\n",
       "      <td>18</td>\n",
       "      <td>Ulm</td>\n",
       "      <td>1618</td>\n",
       "      <td>Internist</td>\n",
       "      <td>36</td>\n",
       "      <td>127.0</td>\n",
       "    </tr>\n",
       "    <tr>\n",
       "      <th>214</th>\n",
       "      <td>493</td>\n",
       "      <td>01/09/2020</td>\n",
       "      <td>1</td>\n",
       "      <td>Platin 1€ monthly</td>\n",
       "      <td>jameda_platin</td>\n",
       "      <td>1</td>\n",
       "      <td>19/02/2025 00:00</td>\n",
       "      <td>0</td>\n",
       "      <td>13</td>\n",
       "      <td>Traunstein</td>\n",
       "      <td>14141</td>\n",
       "      <td>Zahnarzt</td>\n",
       "      <td>125</td>\n",
       "      <td>1.0</td>\n",
       "    </tr>\n",
       "    <tr>\n",
       "      <th>410</th>\n",
       "      <td>480</td>\n",
       "      <td>01/09/2020</td>\n",
       "      <td>1188</td>\n",
       "      <td>Jameda import jameda_gold_pro 1188.00 m12</td>\n",
       "      <td>jameda_gold_pro</td>\n",
       "      <td>12</td>\n",
       "      <td>27/09/2025 00:00</td>\n",
       "      <td>0</td>\n",
       "      <td>0</td>\n",
       "      <td>Ludwigsburg</td>\n",
       "      <td>1476</td>\n",
       "      <td>Zahnarzt</td>\n",
       "      <td>125</td>\n",
       "      <td>99.0</td>\n",
       "    </tr>\n",
       "    <tr>\n",
       "      <th>26</th>\n",
       "      <td>368</td>\n",
       "      <td>01/01/2024</td>\n",
       "      <td>99</td>\n",
       "      <td>GoldPro 99€ monthly</td>\n",
       "      <td>jameda_gold_pro</td>\n",
       "      <td>1</td>\n",
       "      <td>15/02/2025 00:00</td>\n",
       "      <td>0</td>\n",
       "      <td>7</td>\n",
       "      <td>Olching</td>\n",
       "      <td>11586</td>\n",
       "      <td>Internist</td>\n",
       "      <td>36</td>\n",
       "      <td>99.0</td>\n",
       "    </tr>\n",
       "    <tr>\n",
       "      <th>278</th>\n",
       "      <td>14</td>\n",
       "      <td>01/01/2020</td>\n",
       "      <td>1908</td>\n",
       "      <td>Jameda import jameda_platin 1908.00 m12</td>\n",
       "      <td>jameda_platin</td>\n",
       "      <td>12</td>\n",
       "      <td>07/02/2025 00:00</td>\n",
       "      <td>0</td>\n",
       "      <td>41</td>\n",
       "      <td>Pforzheim</td>\n",
       "      <td>1602</td>\n",
       "      <td>Orthopäde &amp; Unfallchirurg</td>\n",
       "      <td>34</td>\n",
       "      <td>159.0</td>\n",
       "    </tr>\n",
       "  </tbody>\n",
       "</table>\n",
       "</div>"
      ],
      "text/plain": [
       "     customer_id      cohort  price  \\\n",
       "32           137  01/11/2024    127   \n",
       "214          493  01/09/2020      1   \n",
       "410          480  01/09/2020   1188   \n",
       "26           368  01/01/2024     99   \n",
       "278           14  01/01/2020   1908   \n",
       "\n",
       "                                    price_name  commercial_type  \\\n",
       "32          Platin 127€ monthly (20% discount)    jameda_platin   \n",
       "214                          Platin 1€ monthly    jameda_platin   \n",
       "410  Jameda import jameda_gold_pro 1188.00 m12  jameda_gold_pro   \n",
       "26                         GoldPro 99€ monthly  jameda_gold_pro   \n",
       "278    Jameda import jameda_platin 1908.00 m12    jameda_platin   \n",
       "\n",
       "     invoicing_period_length   next_invoice_at  avg_3m_admin_bookings  \\\n",
       "32                         1  25/02/2025 00:00                      0   \n",
       "214                        1  19/02/2025 00:00                      0   \n",
       "410                       12  27/09/2025 00:00                      0   \n",
       "26                         1  15/02/2025 00:00                      0   \n",
       "278                       12  07/02/2025 00:00                      0   \n",
       "\n",
       "     avg_3m_user_bookings         city  city_id        specialization_name  \\\n",
       "32                     18          Ulm     1618                  Internist   \n",
       "214                    13   Traunstein    14141                   Zahnarzt   \n",
       "410                     0  Ludwigsburg     1476                   Zahnarzt   \n",
       "26                      7      Olching    11586                  Internist   \n",
       "278                    41    Pforzheim     1602  Orthopäde & Unfallchirurg   \n",
       "\n",
       "     specialization_id  recognized_mrr  \n",
       "32                  36           127.0  \n",
       "214                125             1.0  \n",
       "410                125            99.0  \n",
       "26                  36            99.0  \n",
       "278                 34           159.0  "
      ]
     },
     "execution_count": 82,
     "metadata": {},
     "output_type": "execute_result"
    }
   ],
   "source": [
    "df.sample(5)"
   ]
  },
  {
   "cell_type": "markdown",
   "id": "3a7f4f4e-029d-400b-8f3d-513544c50656",
   "metadata": {},
   "source": [
    "### Standarizing values and defining formulas\n",
    "I used Min-Max normalization to improve model fitting and make potential correlations more observable.\n",
    "\n",
    "I also defined the Customer Engagement Score (CES) to measure customer activity. In the formula, admin bookings are weighted slightly lower than user bookings because user bookings may drive additional revenue. The Price-Usage Fit Score assesses how well a customer's payment aligns with their engagement. I included the 0.01 parameter to avoid division by zero errors.\n",
    "The Churn Risk Score is primarily influenced by price, with engagement acting as a counterbalance—lower pricing or higher engagement reduces churn risk."
   ]
  },
  {
   "cell_type": "code",
   "execution_count": 83,
   "id": "aa6c023b-3f3c-46d8-89c2-19dc545b893d",
   "metadata": {},
   "outputs": [],
   "source": [
    "def min_max_scale(column):\n",
    "    return (column - column.min()) / (column.max() - column.min())\n",
    "\n",
    "df[\"normalized_admin_bookings\"] = min_max_scale(df[\"avg_3m_admin_bookings\"])\n",
    "df[\"normalized_user_bookings\"] = min_max_scale(df[\"avg_3m_user_bookings\"])\n",
    "df[\"normalized_revenue\"] = min_max_scale(df[\"recognized_mrr\"])\n",
    "\n",
    "df[\"engagement_score\"] = (1 * df[\"normalized_admin_bookings\"]) + (1.25 * df[\"normalized_user_bookings\"])\n",
    "df[\"price_usage_fit\"] = df[\"normalized_revenue\"] / (df[\"engagement_score\"] + 0.01)  # Avoid division by zero\n",
    "df[\"churn_risk_score\"] = (2 * df[\"price_usage_fit\"]) - (0.5 * df[\"engagement_score\"])"
   ]
  },
  {
   "cell_type": "code",
   "execution_count": 84,
   "id": "ae9c7e71-9a74-4f8d-a900-53a71854386f",
   "metadata": {},
   "outputs": [
    {
     "data": {
      "text/html": [
       "<div>\n",
       "<style scoped>\n",
       "    .dataframe tbody tr th:only-of-type {\n",
       "        vertical-align: middle;\n",
       "    }\n",
       "\n",
       "    .dataframe tbody tr th {\n",
       "        vertical-align: top;\n",
       "    }\n",
       "\n",
       "    .dataframe thead th {\n",
       "        text-align: right;\n",
       "    }\n",
       "</style>\n",
       "<table border=\"1\" class=\"dataframe\">\n",
       "  <thead>\n",
       "    <tr style=\"text-align: right;\">\n",
       "      <th></th>\n",
       "      <th>customer_id</th>\n",
       "      <th>cohort</th>\n",
       "      <th>price</th>\n",
       "      <th>price_name</th>\n",
       "      <th>commercial_type</th>\n",
       "      <th>invoicing_period_length</th>\n",
       "      <th>next_invoice_at</th>\n",
       "      <th>avg_3m_admin_bookings</th>\n",
       "      <th>avg_3m_user_bookings</th>\n",
       "      <th>city</th>\n",
       "      <th>city_id</th>\n",
       "      <th>specialization_name</th>\n",
       "      <th>specialization_id</th>\n",
       "      <th>recognized_mrr</th>\n",
       "      <th>normalized_admin_bookings</th>\n",
       "      <th>normalized_user_bookings</th>\n",
       "      <th>normalized_revenue</th>\n",
       "      <th>engagement_score</th>\n",
       "      <th>price_usage_fit</th>\n",
       "      <th>churn_risk_score</th>\n",
       "    </tr>\n",
       "  </thead>\n",
       "  <tbody>\n",
       "    <tr>\n",
       "      <th>389</th>\n",
       "      <td>159</td>\n",
       "      <td>01/07/2020</td>\n",
       "      <td>816</td>\n",
       "      <td>GoldPro 816€ annual - alternative practitioners</td>\n",
       "      <td>jameda_gold_pro</td>\n",
       "      <td>12</td>\n",
       "      <td>07/07/2025 00:00</td>\n",
       "      <td>63</td>\n",
       "      <td>4</td>\n",
       "      <td>Berlin</td>\n",
       "      <td>1007</td>\n",
       "      <td>Heilpraktiker</td>\n",
       "      <td>74</td>\n",
       "      <td>68.0</td>\n",
       "      <td>0.08129</td>\n",
       "      <td>0.011019</td>\n",
       "      <td>0.345361</td>\n",
       "      <td>0.095064</td>\n",
       "      <td>3.287134</td>\n",
       "      <td>6.526735</td>\n",
       "    </tr>\n",
       "  </tbody>\n",
       "</table>\n",
       "</div>"
      ],
      "text/plain": [
       "     customer_id      cohort  price  \\\n",
       "389          159  01/07/2020    816   \n",
       "\n",
       "                                          price_name  commercial_type  \\\n",
       "389  GoldPro 816€ annual - alternative practitioners  jameda_gold_pro   \n",
       "\n",
       "     invoicing_period_length   next_invoice_at  avg_3m_admin_bookings  \\\n",
       "389                       12  07/07/2025 00:00                     63   \n",
       "\n",
       "     avg_3m_user_bookings    city  city_id specialization_name  \\\n",
       "389                     4  Berlin     1007       Heilpraktiker   \n",
       "\n",
       "     specialization_id  recognized_mrr  normalized_admin_bookings  \\\n",
       "389                 74            68.0                    0.08129   \n",
       "\n",
       "     normalized_user_bookings  normalized_revenue  engagement_score  \\\n",
       "389                  0.011019            0.345361          0.095064   \n",
       "\n",
       "     price_usage_fit  churn_risk_score  \n",
       "389         3.287134          6.526735  "
      ]
     },
     "execution_count": 84,
     "metadata": {},
     "output_type": "execute_result"
    }
   ],
   "source": [
    "df.sample()"
   ]
  },
  {
   "cell_type": "markdown",
   "id": "043a0e70-7144-43bd-bba5-f1f701b21b02",
   "metadata": {},
   "source": [
    "### Dividing in Quartiles "
   ]
  },
  {
   "cell_type": "markdown",
   "id": "819ed777-0de8-484f-9bb6-58dc0a4bdcdb",
   "metadata": {},
   "source": [
    "I divided the Churn Risk Score into quartiles to categorize customers based on their likelihood of churn into four risk categories: Low, Medium, High and Critical"
   ]
  },
  {
   "cell_type": "code",
   "execution_count": 85,
   "id": "7501c378-04ae-4218-a202-af9459af83c9",
   "metadata": {},
   "outputs": [],
   "source": [
    "df[\"churn_risk_quartiles\"] = pd.qcut(df[\"churn_risk_score\"], q=4, labels=[\"Low\", \"Medium\", \"High\", \"Critical\"])"
   ]
  },
  {
   "cell_type": "markdown",
   "id": "405adf5d-376a-494a-985b-27382338f15d",
   "metadata": {},
   "source": [
    "### Holdplace for further EDA - do some graphs, check the distribution etc. "
   ]
  },
  {
   "cell_type": "markdown",
   "id": "c458298a-d85b-47c0-a9b4-0a72b179ef48",
   "metadata": {},
   "source": [
    "### Optimized Price and New Churn Risk Score Calculated\n",
    "\n",
    "The value assigned to medium_churn_threshold represents the highest churn risk score within the Medium segment, meaning it equals to the customer with the highest churn likelihood still classified as \"Medium\" risk. This basically sets the cap on that threshold, ensuring optimized pricing won't raise churn above its level."
   ]
  },
  {
   "cell_type": "code",
   "execution_count": 86,
   "id": "ba150e75-6253-4307-99be-79c40d8e3c51",
   "metadata": {},
   "outputs": [
    {
     "data": {
      "text/plain": [
       "14.407525437066738"
      ]
     },
     "execution_count": 86,
     "metadata": {},
     "output_type": "execute_result"
    }
   ],
   "source": [
    "medium_churn_threshold = df[df[\"churn_risk_quartiles\"] == \"Medium\"][\"churn_risk_score\"].max()\n",
    "medium_churn_threshold"
   ]
  },
  {
   "cell_type": "markdown",
   "id": "38ed1ec0-72c8-4ca0-8068-cf6c6565f9bf",
   "metadata": {},
   "source": [
    "I've added minimal and maximal revenue/recognized mrr to be able to later map the optimized price from normalized values back to absolute revenue figures"
   ]
  },
  {
   "cell_type": "code",
   "execution_count": 87,
   "id": "09f4678c-86f1-447e-9ebf-c96645b0af14",
   "metadata": {},
   "outputs": [],
   "source": [
    "df[\"normalized_engagmnet\"] = min_max_scale(df[\"engagement_score\"])\n",
    "min_revenue, max_revenue = df[\"recognized_mrr\"].min(), df[\"recognized_mrr\"].max()"
   ]
  },
  {
   "cell_type": "markdown",
   "id": "09b83a42-6a10-4f8a-bae8-08e2990918aa",
   "metadata": {},
   "source": [
    "### Computing Optimal Price\n",
    "I adjusted prices for customers in the Low and Medium churn risk segments while keeping others unchanged. The maximum price is capped at 195 (Platinum Package). The threshold for price increases is set at a churn risk score of 14.4075 (described before), which corresponds to the last customer in the Medium risk category. If the calculated price exceeds $195, the function caps it and recalculates the churn risk score."
   ]
  },
  {
   "cell_type": "code",
   "execution_count": 88,
   "id": "de8af004-33c1-4511-b724-9a6a21d40b38",
   "metadata": {},
   "outputs": [],
   "source": [
    "def compute_optimal_price(row):\n",
    "    if row[\"churn_risk_quartiles\"] not in [\"Low\", \"Medium\"]:\n",
    "        return row[\"recognized_mrr\"], row[\"churn_risk_score\"]\n",
    "\n",
    "    engagement_score_normalized = row[\"normalized_engagmnet\"]\n",
    "    target_price_usage_fit = (medium_churn_threshold + (0.5 * engagement_score_normalized)) / 2\n",
    "    new_normalized_revenue = target_price_usage_fit * (engagement_score_normalized + 0.01)\n",
    "    new_price = (new_normalized_revenue * (max_revenue - min_revenue)) + min_revenue\n",
    "\n",
    "    if new_price > 195:\n",
    "        new_price = 195\n",
    "        capped_normalized_revenue = (new_price - min_revenue) / (max_revenue - min_revenue)\n",
    "        new_normalized_price_usage_score = capped_normalized_revenue / (engagement_score_normalized + 0.01)\n",
    "        new_churn_risk_score = (2 * new_normalized_price_usage_score) - (0.5 * engagement_score_normalized)\n",
    "    else:\n",
    "        new_churn_risk_score = medium_churn_threshold\n",
    "\n",
    "    new_price = max(new_price, row[\"recognized_mrr\"])\n",
    "    new_churn_risk_score = max(new_churn_risk_score, row[\"churn_risk_score\"])\n",
    "\n",
    "    return round(new_price, 2), round(new_churn_risk_score, 4)\n",
    "\n",
    "df[[\"optimized_price\", \"new_churn_risk_score\"]] = df.apply(\n",
    "    lambda row: compute_optimal_price(row), axis=1, result_type=\"expand\")"
   ]
  },
  {
   "cell_type": "code",
   "execution_count": 89,
   "id": "2dfa94e6-e015-4cc0-802c-aba26701e29b",
   "metadata": {},
   "outputs": [
    {
     "data": {
      "text/html": [
       "<div>\n",
       "<style scoped>\n",
       "    .dataframe tbody tr th:only-of-type {\n",
       "        vertical-align: middle;\n",
       "    }\n",
       "\n",
       "    .dataframe tbody tr th {\n",
       "        vertical-align: top;\n",
       "    }\n",
       "\n",
       "    .dataframe thead th {\n",
       "        text-align: right;\n",
       "    }\n",
       "</style>\n",
       "<table border=\"1\" class=\"dataframe\">\n",
       "  <thead>\n",
       "    <tr style=\"text-align: right;\">\n",
       "      <th></th>\n",
       "      <th>customer_id</th>\n",
       "      <th>cohort</th>\n",
       "      <th>price</th>\n",
       "      <th>price_name</th>\n",
       "      <th>commercial_type</th>\n",
       "      <th>invoicing_period_length</th>\n",
       "      <th>next_invoice_at</th>\n",
       "      <th>avg_3m_admin_bookings</th>\n",
       "      <th>avg_3m_user_bookings</th>\n",
       "      <th>city</th>\n",
       "      <th>...</th>\n",
       "      <th>normalized_admin_bookings</th>\n",
       "      <th>normalized_user_bookings</th>\n",
       "      <th>normalized_revenue</th>\n",
       "      <th>engagement_score</th>\n",
       "      <th>price_usage_fit</th>\n",
       "      <th>churn_risk_score</th>\n",
       "      <th>churn_risk_quartiles</th>\n",
       "      <th>normalized_engagmnet</th>\n",
       "      <th>optimized_price</th>\n",
       "      <th>new_churn_risk_score</th>\n",
       "    </tr>\n",
       "  </thead>\n",
       "  <tbody>\n",
       "    <tr>\n",
       "      <th>286</th>\n",
       "      <td>85</td>\n",
       "      <td>01/08/2020</td>\n",
       "      <td>1188</td>\n",
       "      <td>Jameda import jameda_gold_pro 1188.00 m12</td>\n",
       "      <td>jameda_gold_pro</td>\n",
       "      <td>12</td>\n",
       "      <td>05/01/2025 00:00</td>\n",
       "      <td>303</td>\n",
       "      <td>363</td>\n",
       "      <td>Berlin</td>\n",
       "      <td>...</td>\n",
       "      <td>0.390968</td>\n",
       "      <td>1.0</td>\n",
       "      <td>0.505155</td>\n",
       "      <td>1.640968</td>\n",
       "      <td>0.305975</td>\n",
       "      <td>-0.208534</td>\n",
       "      <td>Low</td>\n",
       "      <td>1.0</td>\n",
       "      <td>195.0</td>\n",
       "      <td>1.4802</td>\n",
       "    </tr>\n",
       "  </tbody>\n",
       "</table>\n",
       "<p>1 rows × 24 columns</p>\n",
       "</div>"
      ],
      "text/plain": [
       "     customer_id      cohort  price  \\\n",
       "286           85  01/08/2020   1188   \n",
       "\n",
       "                                    price_name  commercial_type  \\\n",
       "286  Jameda import jameda_gold_pro 1188.00 m12  jameda_gold_pro   \n",
       "\n",
       "     invoicing_period_length   next_invoice_at  avg_3m_admin_bookings  \\\n",
       "286                       12  05/01/2025 00:00                    303   \n",
       "\n",
       "     avg_3m_user_bookings    city  ...  normalized_admin_bookings  \\\n",
       "286                   363  Berlin  ...                   0.390968   \n",
       "\n",
       "    normalized_user_bookings  normalized_revenue  engagement_score  \\\n",
       "286                      1.0            0.505155          1.640968   \n",
       "\n",
       "     price_usage_fit  churn_risk_score  churn_risk_quartiles  \\\n",
       "286         0.305975         -0.208534                   Low   \n",
       "\n",
       "     normalized_engagmnet  optimized_price  new_churn_risk_score  \n",
       "286                   1.0            195.0                1.4802  \n",
       "\n",
       "[1 rows x 24 columns]"
      ]
     },
     "execution_count": 89,
     "metadata": {},
     "output_type": "execute_result"
    }
   ],
   "source": [
    "df.sort_values([\"new_churn_risk_score\"]).head(1)"
   ]
  },
  {
   "cell_type": "markdown",
   "id": "eb2ea5b5-cf26-4be8-af8e-f547d5c5fc6e",
   "metadata": {},
   "source": [
    "### Dividing new churn risk into quartiles - to do if needed"
   ]
  },
  {
   "cell_type": "markdown",
   "id": "673c80ba-d7c0-46e8-b41a-0695d4c139b1",
   "metadata": {},
   "source": [
    "### Analysis on viability and impact of the price change\n",
    "I selected customers in the Medium and Low churn risk segments and calculated their total current revenue (price change only involved them). Then, I calculated the total revenue based on the optimized price. I sorted these customers by new churn risk score in descending order for removing higher-risk customers first.\n",
    "\n",
    "Next, the function iteratively removes customers from the dataset, reducing revenue by their optimized price, until the remaining revenue matches the current total. I counted the number of customers removed to determine the break-even churn count (how many of these customers would need to churn for the investment to not make sense). Finally, I calculated the revenue difference between the optimized and current revenue and the break-even churn rate for the selected segment."
   ]
  },
  {
   "cell_type": "code",
   "execution_count": 90,
   "id": "1b5ab5e0-0f32-451d-976e-4aa8fb40573e",
   "metadata": {},
   "outputs": [
    {
     "name": "stdout",
     "output_type": "stream",
     "text": [
      "Total Current Revenue (Medium & Low Risk): 22,882.72\n",
      "Total Optimized Revenue (Medium & Low Risk / Before Churn): 34,733.50\n",
      "Revenue Increase (Optimized - Current): 11,850.78\n",
      "Break-Even Churn Count (Medium & Low Risk): 108 customers\n",
      "Break-Even Churn Rate (Medium & Low Risk): 43.20%\n"
     ]
    }
   ],
   "source": [
    "df_filtered = df[df[\"churn_risk_quartiles\"].isin([\"Medium\", \"Low\"])].copy()\n",
    "total_current_revenue = df_filtered[\"recognized_mrr\"].sum()\n",
    "total_optimized_revenue = df_filtered[\"optimized_price\"].sum()\n",
    "\n",
    "df_filtered = df_filtered.sort_values(by=\"new_churn_risk_score\", ascending=False)\n",
    "\n",
    "cumulative_churned = 0\n",
    "cumulative_new_revenue = total_optimized_revenue\n",
    "\n",
    "for index, row in df_filtered.iterrows():\n",
    "    if cumulative_new_revenue <= total_current_revenue:\n",
    "        break  \n",
    "    \n",
    "    cumulative_new_revenue -= row[\"optimized_price\"]\n",
    "    cumulative_churned += 1\n",
    "\n",
    "\n",
    "revenue_difference = total_optimized_revenue - total_current_revenue\n",
    "\n",
    "print(f\"Total Current Revenue (Medium & Low Risk): {total_current_revenue:,.2f}\")\n",
    "print(f\"Total Optimized Revenue (Medium & Low Risk / Before Churn): {total_optimized_revenue:,.2f}\")\n",
    "print(f\"Revenue Increase (Optimized - Current): {revenue_difference:,.2f}\")\n",
    "print(f\"Break-Even Churn Count (Medium & Low Risk): {cumulative_churned} customers\")\n",
    "print(f\"Break-Even Churn Rate (Medium & Low Risk): {cumulative_churned / len(df_filtered):.2%}\")"
   ]
  },
  {
   "cell_type": "code",
   "execution_count": 91,
   "id": "936f787d-8e7a-4794-b75b-2b5c0ee7e5f9",
   "metadata": {},
   "outputs": [
    {
     "name": "stdout",
     "output_type": "stream",
     "text": [
      "Total Current Revenue: 50,620.22\n",
      "Total Optimized Revenue: 62,471.00\n",
      "Total Revenue Increase (Optimized - Current): 11,850.78\n",
      "Total Revenue Change in %: 23.41\n"
     ]
    }
   ],
   "source": [
    "total_current_revenue = df[\"recognized_mrr\"].sum()\n",
    "total_optimized_revenue = df[\"optimized_price\"].sum()\n",
    "total_revenue_increase = df[\"optimized_price\"].sum() - df[\"recognized_mrr\"].sum()\n",
    "total_revenue_change_perc = ((total_optimized_revenue / total_current_revenue) - 1)*100\n",
    "\n",
    "print(f\"Total Current Revenue: {total_current_revenue:,.2f}\")\n",
    "print(f\"Total Optimized Revenue: {total_optimized_revenue:,.2f}\")\n",
    "print(f\"Total Revenue Increase (Optimized - Current): {total_revenue_increase:,.2f}\")\n",
    "print(f\"Total Revenue Change in %: {total_revenue_change_perc:,.2f}\")"
   ]
  },
  {
   "cell_type": "markdown",
   "id": "6e1c1983-36c0-4df7-b444-db0eda48d08b",
   "metadata": {},
   "source": [
    "### Final Remarks\n",
    "After applying the optimized pricing model, total revenue increased from 50,620.22 to 61,409.77, a 21.31% increase. \n",
    "\n",
    "Among customers in the Medium and Low churn risk segments, revenue before churn increased from 22,882.72 to 33,672.27,  \n",
    "\n",
    "To maintain the original revenue level after churn (optimized revenue = current revenue), 102 customers Medium and Low Risk Customers (40.80% churn rate within these segments) would need to leave."
   ]
  },
  {
   "cell_type": "code",
   "execution_count": 92,
   "id": "fd63249e-b407-498b-9b84-3904f1eda6be",
   "metadata": {},
   "outputs": [
    {
     "data": {
      "text/html": [
       "<div>\n",
       "<style scoped>\n",
       "    .dataframe tbody tr th:only-of-type {\n",
       "        vertical-align: middle;\n",
       "    }\n",
       "\n",
       "    .dataframe tbody tr th {\n",
       "        vertical-align: top;\n",
       "    }\n",
       "\n",
       "    .dataframe thead th {\n",
       "        text-align: right;\n",
       "    }\n",
       "</style>\n",
       "<table border=\"1\" class=\"dataframe\">\n",
       "  <thead>\n",
       "    <tr style=\"text-align: right;\">\n",
       "      <th></th>\n",
       "      <th>customer_id</th>\n",
       "      <th>cohort</th>\n",
       "      <th>price</th>\n",
       "      <th>price_name</th>\n",
       "      <th>commercial_type</th>\n",
       "      <th>invoicing_period_length</th>\n",
       "      <th>next_invoice_at</th>\n",
       "      <th>avg_3m_admin_bookings</th>\n",
       "      <th>avg_3m_user_bookings</th>\n",
       "      <th>city</th>\n",
       "      <th>...</th>\n",
       "      <th>normalized_admin_bookings</th>\n",
       "      <th>normalized_user_bookings</th>\n",
       "      <th>normalized_revenue</th>\n",
       "      <th>engagement_score</th>\n",
       "      <th>price_usage_fit</th>\n",
       "      <th>churn_risk_score</th>\n",
       "      <th>churn_risk_quartiles</th>\n",
       "      <th>normalized_engagmnet</th>\n",
       "      <th>optimized_price</th>\n",
       "      <th>new_churn_risk_score</th>\n",
       "    </tr>\n",
       "  </thead>\n",
       "  <tbody>\n",
       "    <tr>\n",
       "      <th>0</th>\n",
       "      <td>399</td>\n",
       "      <td>01/07/2024</td>\n",
       "      <td>99</td>\n",
       "      <td>GoldPro 99€ monthly</td>\n",
       "      <td>jameda_gold_pro</td>\n",
       "      <td>1</td>\n",
       "      <td>28/02/2025 00:00</td>\n",
       "      <td>0</td>\n",
       "      <td>15</td>\n",
       "      <td>Hessen</td>\n",
       "      <td>...</td>\n",
       "      <td>0.0</td>\n",
       "      <td>0.041322</td>\n",
       "      <td>0.505155</td>\n",
       "      <td>0.051653</td>\n",
       "      <td>8.193527</td>\n",
       "      <td>16.361228</td>\n",
       "      <td>High</td>\n",
       "      <td>0.031477</td>\n",
       "      <td>99.0</td>\n",
       "      <td>16.361228</td>\n",
       "    </tr>\n",
       "  </tbody>\n",
       "</table>\n",
       "<p>1 rows × 24 columns</p>\n",
       "</div>"
      ],
      "text/plain": [
       "   customer_id      cohort  price           price_name  commercial_type  \\\n",
       "0          399  01/07/2024     99  GoldPro 99€ monthly  jameda_gold_pro   \n",
       "\n",
       "   invoicing_period_length   next_invoice_at  avg_3m_admin_bookings  \\\n",
       "0                        1  28/02/2025 00:00                      0   \n",
       "\n",
       "   avg_3m_user_bookings    city  ...  normalized_admin_bookings  \\\n",
       "0                    15  Hessen  ...                        0.0   \n",
       "\n",
       "  normalized_user_bookings  normalized_revenue  engagement_score  \\\n",
       "0                 0.041322            0.505155          0.051653   \n",
       "\n",
       "   price_usage_fit  churn_risk_score  churn_risk_quartiles  \\\n",
       "0         8.193527         16.361228                  High   \n",
       "\n",
       "   normalized_engagmnet  optimized_price  new_churn_risk_score  \n",
       "0              0.031477             99.0             16.361228  \n",
       "\n",
       "[1 rows x 24 columns]"
      ]
     },
     "execution_count": 92,
     "metadata": {},
     "output_type": "execute_result"
    }
   ],
   "source": [
    "df.head(1)"
   ]
  },
  {
   "cell_type": "markdown",
   "id": "544ac755-1c13-4506-b6b2-33c74e96f443",
   "metadata": {},
   "source": [
    "### Additional Useful Information Preperation"
   ]
  },
  {
   "cell_type": "markdown",
   "id": "3d14e5d9-0abb-40b4-bcc4-272750e24251",
   "metadata": {},
   "source": [
    "##### Assigning risk segments to optimized prices - I maintained the original churn risk segmentation thresholds but applied them to the updated churn risk scores."
   ]
  },
  {
   "cell_type": "code",
   "execution_count": 93,
   "id": "7fb0890b-5a11-4473-8da4-0e89c04c65ce",
   "metadata": {},
   "outputs": [],
   "source": [
    "thresholds = df['churn_risk_score'].quantile([0.25, 0.50, 0.75]).tolist()\n",
    "q1, q2, q3 = thresholds\n",
    "\n",
    "def assign_risk_category(score, q1, q2, q3):\n",
    "    if score <= q1:\n",
    "        return 'Low'\n",
    "    elif score <= q2:\n",
    "        return 'Medium'\n",
    "    elif score <= q3:\n",
    "        return 'High'\n",
    "    else:\n",
    "        return 'Critical'\n",
    "\n",
    "df['new_churn_risk_segments'] = df['new_churn_risk_score'].apply(lambda x: assign_risk_category(x, q1, q2, q3))"
   ]
  },
  {
   "cell_type": "code",
   "execution_count": 94,
   "id": "9748420f-83fa-49f5-89a3-717902550072",
   "metadata": {},
   "outputs": [
    {
     "data": {
      "text/html": [
       "<div>\n",
       "<style scoped>\n",
       "    .dataframe tbody tr th:only-of-type {\n",
       "        vertical-align: middle;\n",
       "    }\n",
       "\n",
       "    .dataframe tbody tr th {\n",
       "        vertical-align: top;\n",
       "    }\n",
       "\n",
       "    .dataframe thead th {\n",
       "        text-align: right;\n",
       "    }\n",
       "</style>\n",
       "<table border=\"1\" class=\"dataframe\">\n",
       "  <thead>\n",
       "    <tr style=\"text-align: right;\">\n",
       "      <th></th>\n",
       "      <th>customer_id</th>\n",
       "      <th>cohort</th>\n",
       "      <th>price</th>\n",
       "      <th>price_name</th>\n",
       "      <th>commercial_type</th>\n",
       "      <th>invoicing_period_length</th>\n",
       "      <th>next_invoice_at</th>\n",
       "      <th>avg_3m_admin_bookings</th>\n",
       "      <th>avg_3m_user_bookings</th>\n",
       "      <th>city</th>\n",
       "      <th>...</th>\n",
       "      <th>normalized_user_bookings</th>\n",
       "      <th>normalized_revenue</th>\n",
       "      <th>engagement_score</th>\n",
       "      <th>price_usage_fit</th>\n",
       "      <th>churn_risk_score</th>\n",
       "      <th>churn_risk_quartiles</th>\n",
       "      <th>normalized_engagmnet</th>\n",
       "      <th>optimized_price</th>\n",
       "      <th>new_churn_risk_score</th>\n",
       "      <th>new_churn_risk_segments</th>\n",
       "    </tr>\n",
       "  </thead>\n",
       "  <tbody>\n",
       "    <tr>\n",
       "      <th>0</th>\n",
       "      <td>399</td>\n",
       "      <td>01/07/2024</td>\n",
       "      <td>99</td>\n",
       "      <td>GoldPro 99€ monthly</td>\n",
       "      <td>jameda_gold_pro</td>\n",
       "      <td>1</td>\n",
       "      <td>28/02/2025 00:00</td>\n",
       "      <td>0</td>\n",
       "      <td>15</td>\n",
       "      <td>Hessen</td>\n",
       "      <td>...</td>\n",
       "      <td>0.041322</td>\n",
       "      <td>0.505155</td>\n",
       "      <td>0.051653</td>\n",
       "      <td>8.193527</td>\n",
       "      <td>16.361228</td>\n",
       "      <td>High</td>\n",
       "      <td>0.031477</td>\n",
       "      <td>99.0</td>\n",
       "      <td>16.361228</td>\n",
       "      <td>High</td>\n",
       "    </tr>\n",
       "  </tbody>\n",
       "</table>\n",
       "<p>1 rows × 25 columns</p>\n",
       "</div>"
      ],
      "text/plain": [
       "   customer_id      cohort  price           price_name  commercial_type  \\\n",
       "0          399  01/07/2024     99  GoldPro 99€ monthly  jameda_gold_pro   \n",
       "\n",
       "   invoicing_period_length   next_invoice_at  avg_3m_admin_bookings  \\\n",
       "0                        1  28/02/2025 00:00                      0   \n",
       "\n",
       "   avg_3m_user_bookings    city  ...  normalized_user_bookings  \\\n",
       "0                    15  Hessen  ...                  0.041322   \n",
       "\n",
       "  normalized_revenue  engagement_score  price_usage_fit  churn_risk_score  \\\n",
       "0           0.505155          0.051653         8.193527         16.361228   \n",
       "\n",
       "   churn_risk_quartiles  normalized_engagmnet  optimized_price  \\\n",
       "0                  High              0.031477             99.0   \n",
       "\n",
       "   new_churn_risk_score  new_churn_risk_segments  \n",
       "0             16.361228                     High  \n",
       "\n",
       "[1 rows x 25 columns]"
      ]
     },
     "execution_count": 94,
     "metadata": {},
     "output_type": "execute_result"
    }
   ],
   "source": [
    "df.head(1)"
   ]
  },
  {
   "cell_type": "markdown",
   "id": "1d43b0cf-7187-4559-b31d-3785fcd0ac8e",
   "metadata": {},
   "source": [
    "##### Adding % change from current_price to optimized_price"
   ]
  },
  {
   "cell_type": "code",
   "execution_count": 95,
   "id": "920de01c-7f69-4389-903d-15f7f5acd86f",
   "metadata": {},
   "outputs": [],
   "source": [
    "df[\"price_change_%\"] = ((df[\"optimized_price\"] / df[\"recognized_mrr\"]) - 1)*100"
   ]
  },
  {
   "cell_type": "code",
   "execution_count": 96,
   "id": "9dd63ce9-8001-4a00-a60e-95dd5c05f7ea",
   "metadata": {},
   "outputs": [
    {
     "data": {
      "text/html": [
       "<div>\n",
       "<style scoped>\n",
       "    .dataframe tbody tr th:only-of-type {\n",
       "        vertical-align: middle;\n",
       "    }\n",
       "\n",
       "    .dataframe tbody tr th {\n",
       "        vertical-align: top;\n",
       "    }\n",
       "\n",
       "    .dataframe thead th {\n",
       "        text-align: right;\n",
       "    }\n",
       "</style>\n",
       "<table border=\"1\" class=\"dataframe\">\n",
       "  <thead>\n",
       "    <tr style=\"text-align: right;\">\n",
       "      <th></th>\n",
       "      <th>customer_id</th>\n",
       "      <th>cohort</th>\n",
       "      <th>price</th>\n",
       "      <th>price_name</th>\n",
       "      <th>commercial_type</th>\n",
       "      <th>invoicing_period_length</th>\n",
       "      <th>next_invoice_at</th>\n",
       "      <th>avg_3m_admin_bookings</th>\n",
       "      <th>avg_3m_user_bookings</th>\n",
       "      <th>city</th>\n",
       "      <th>...</th>\n",
       "      <th>normalized_revenue</th>\n",
       "      <th>engagement_score</th>\n",
       "      <th>price_usage_fit</th>\n",
       "      <th>churn_risk_score</th>\n",
       "      <th>churn_risk_quartiles</th>\n",
       "      <th>normalized_engagmnet</th>\n",
       "      <th>optimized_price</th>\n",
       "      <th>new_churn_risk_score</th>\n",
       "      <th>new_churn_risk_segments</th>\n",
       "      <th>price_change_%</th>\n",
       "    </tr>\n",
       "  </thead>\n",
       "  <tbody>\n",
       "    <tr>\n",
       "      <th>315</th>\n",
       "      <td>143</td>\n",
       "      <td>01/01/2020</td>\n",
       "      <td>844</td>\n",
       "      <td>Dynamic GoldPro 950€ annual (20% discount)</td>\n",
       "      <td>jameda_gold_pro</td>\n",
       "      <td>12</td>\n",
       "      <td>09/01/2025 00:00</td>\n",
       "      <td>0</td>\n",
       "      <td>16</td>\n",
       "      <td>Herne</td>\n",
       "      <td>...</td>\n",
       "      <td>0.357388</td>\n",
       "      <td>0.055096</td>\n",
       "      <td>5.490138</td>\n",
       "      <td>10.952728</td>\n",
       "      <td>Medium</td>\n",
       "      <td>0.033576</td>\n",
       "      <td>70.33</td>\n",
       "      <td>14.407500</td>\n",
       "      <td>Medium</td>\n",
       "      <td>-0.004739</td>\n",
       "    </tr>\n",
       "    <tr>\n",
       "      <th>0</th>\n",
       "      <td>399</td>\n",
       "      <td>01/07/2024</td>\n",
       "      <td>99</td>\n",
       "      <td>GoldPro 99€ monthly</td>\n",
       "      <td>jameda_gold_pro</td>\n",
       "      <td>1</td>\n",
       "      <td>28/02/2025 00:00</td>\n",
       "      <td>0</td>\n",
       "      <td>15</td>\n",
       "      <td>Hessen</td>\n",
       "      <td>...</td>\n",
       "      <td>0.505155</td>\n",
       "      <td>0.051653</td>\n",
       "      <td>8.193527</td>\n",
       "      <td>16.361228</td>\n",
       "      <td>High</td>\n",
       "      <td>0.031477</td>\n",
       "      <td>99.00</td>\n",
       "      <td>16.361228</td>\n",
       "      <td>High</td>\n",
       "      <td>0.000000</td>\n",
       "    </tr>\n",
       "    <tr>\n",
       "      <th>327</th>\n",
       "      <td>28</td>\n",
       "      <td>01/12/2021</td>\n",
       "      <td>1908</td>\n",
       "      <td>Jameda import jameda_platin 1908.00 m12</td>\n",
       "      <td>jameda_platin</td>\n",
       "      <td>12</td>\n",
       "      <td>15/12/2025 00:00</td>\n",
       "      <td>0</td>\n",
       "      <td>1</td>\n",
       "      <td>Berlin</td>\n",
       "      <td>...</td>\n",
       "      <td>0.814433</td>\n",
       "      <td>0.003444</td>\n",
       "      <td>60.581798</td>\n",
       "      <td>121.161875</td>\n",
       "      <td>Critical</td>\n",
       "      <td>0.002098</td>\n",
       "      <td>159.00</td>\n",
       "      <td>121.161875</td>\n",
       "      <td>Critical</td>\n",
       "      <td>0.000000</td>\n",
       "    </tr>\n",
       "    <tr>\n",
       "      <th>320</th>\n",
       "      <td>167</td>\n",
       "      <td>01/07/2020</td>\n",
       "      <td>1908</td>\n",
       "      <td>Jameda import jameda_platin 1908.00 m12</td>\n",
       "      <td>jameda_platin</td>\n",
       "      <td>12</td>\n",
       "      <td>25/07/2025 00:00</td>\n",
       "      <td>4</td>\n",
       "      <td>12</td>\n",
       "      <td>Hamburg</td>\n",
       "      <td>...</td>\n",
       "      <td>0.814433</td>\n",
       "      <td>0.046484</td>\n",
       "      <td>14.418927</td>\n",
       "      <td>28.814613</td>\n",
       "      <td>Critical</td>\n",
       "      <td>0.028327</td>\n",
       "      <td>159.00</td>\n",
       "      <td>28.814613</td>\n",
       "      <td>Critical</td>\n",
       "      <td>0.000000</td>\n",
       "    </tr>\n",
       "    <tr>\n",
       "      <th>314</th>\n",
       "      <td>380</td>\n",
       "      <td>01/08/2020</td>\n",
       "      <td>1056</td>\n",
       "      <td>Jameda import jameda_gold_pro 1056.00 m12</td>\n",
       "      <td>jameda_gold_pro</td>\n",
       "      <td>12</td>\n",
       "      <td>25/08/2025 00:00</td>\n",
       "      <td>0</td>\n",
       "      <td>14</td>\n",
       "      <td>Hagen</td>\n",
       "      <td>...</td>\n",
       "      <td>0.448454</td>\n",
       "      <td>0.048209</td>\n",
       "      <td>7.704149</td>\n",
       "      <td>15.384193</td>\n",
       "      <td>High</td>\n",
       "      <td>0.029379</td>\n",
       "      <td>88.00</td>\n",
       "      <td>15.384193</td>\n",
       "      <td>High</td>\n",
       "      <td>0.000000</td>\n",
       "    </tr>\n",
       "  </tbody>\n",
       "</table>\n",
       "<p>5 rows × 26 columns</p>\n",
       "</div>"
      ],
      "text/plain": [
       "     customer_id      cohort  price  \\\n",
       "315          143  01/01/2020    844   \n",
       "0            399  01/07/2024     99   \n",
       "327           28  01/12/2021   1908   \n",
       "320          167  01/07/2020   1908   \n",
       "314          380  01/08/2020   1056   \n",
       "\n",
       "                                     price_name  commercial_type  \\\n",
       "315  Dynamic GoldPro 950€ annual (20% discount)  jameda_gold_pro   \n",
       "0                           GoldPro 99€ monthly  jameda_gold_pro   \n",
       "327     Jameda import jameda_platin 1908.00 m12    jameda_platin   \n",
       "320     Jameda import jameda_platin 1908.00 m12    jameda_platin   \n",
       "314   Jameda import jameda_gold_pro 1056.00 m12  jameda_gold_pro   \n",
       "\n",
       "     invoicing_period_length   next_invoice_at  avg_3m_admin_bookings  \\\n",
       "315                       12  09/01/2025 00:00                      0   \n",
       "0                          1  28/02/2025 00:00                      0   \n",
       "327                       12  15/12/2025 00:00                      0   \n",
       "320                       12  25/07/2025 00:00                      4   \n",
       "314                       12  25/08/2025 00:00                      0   \n",
       "\n",
       "     avg_3m_user_bookings     city  ...  normalized_revenue engagement_score  \\\n",
       "315                    16    Herne  ...            0.357388         0.055096   \n",
       "0                      15   Hessen  ...            0.505155         0.051653   \n",
       "327                     1   Berlin  ...            0.814433         0.003444   \n",
       "320                    12  Hamburg  ...            0.814433         0.046484   \n",
       "314                    14    Hagen  ...            0.448454         0.048209   \n",
       "\n",
       "     price_usage_fit  churn_risk_score  churn_risk_quartiles  \\\n",
       "315         5.490138         10.952728                Medium   \n",
       "0           8.193527         16.361228                  High   \n",
       "327        60.581798        121.161875              Critical   \n",
       "320        14.418927         28.814613              Critical   \n",
       "314         7.704149         15.384193                  High   \n",
       "\n",
       "     normalized_engagmnet  optimized_price  new_churn_risk_score  \\\n",
       "315              0.033576            70.33             14.407500   \n",
       "0                0.031477            99.00             16.361228   \n",
       "327              0.002098           159.00            121.161875   \n",
       "320              0.028327           159.00             28.814613   \n",
       "314              0.029379            88.00             15.384193   \n",
       "\n",
       "     new_churn_risk_segments  price_change_%  \n",
       "315                   Medium       -0.004739  \n",
       "0                       High        0.000000  \n",
       "327                 Critical        0.000000  \n",
       "320                 Critical        0.000000  \n",
       "314                     High        0.000000  \n",
       "\n",
       "[5 rows x 26 columns]"
      ]
     },
     "execution_count": 96,
     "metadata": {},
     "output_type": "execute_result"
    }
   ],
   "source": [
    "df.sort_values(\"price_change_%\").head(5)"
   ]
  },
  {
   "cell_type": "markdown",
   "id": "2d6688bd-4c73-4404-9150-5b4a7814c812",
   "metadata": {},
   "source": [
    "#### How many customers are in each segment after optimizing the price"
   ]
  },
  {
   "cell_type": "code",
   "execution_count": 97,
   "id": "a3df10f4-00d3-4e52-8e27-af22af1baf27",
   "metadata": {},
   "outputs": [
    {
     "data": {
      "text/plain": [
       "new_churn_risk_segments\n",
       "Medium      228\n",
       "High        125\n",
       "Critical    125\n",
       "Low          22\n",
       "Name: count, dtype: int64"
      ]
     },
     "execution_count": 97,
     "metadata": {},
     "output_type": "execute_result"
    }
   ],
   "source": [
    "df[\"new_churn_risk_segments\"].value_counts()"
   ]
  },
  {
   "cell_type": "markdown",
   "id": "1b96e735-4506-4ede-9a39-66294f2a1639",
   "metadata": {},
   "source": [
    "#### Data Vizualitzation\n",
    "Data Vizualization done to check up data distribution and the impact of the approach"
   ]
  },
  {
   "cell_type": "code",
   "execution_count": 98,
   "id": "e43be533-0569-4a41-a792-09ee2abdafef",
   "metadata": {},
   "outputs": [
    {
     "data": {
      "image/png": "[encoded data removed]",
      "text/plain": [
       "<Figure size 640x480 with 1 Axes>"
      ]
     },
     "metadata": {},
     "output_type": "display_data"
    }
   ],
   "source": [
    "order = [\"Low\", \"Medium\", \"High\", \"Critical\"]\n",
    "sns.boxplot(x=df[\"new_churn_risk_segments\"], y=df[\"new_churn_risk_score\"], order = order)\n",
    "plt.title(\"Churn Risk Score by Quartiles\")\n",
    "plt.xlabel(\"Churn Risk Level\")\n",
    "plt.ylabel(\"Churn Risk Score\")\n",
    "plt.show()"
   ]
  },
  {
   "cell_type": "code",
   "execution_count": 99,
   "id": "b9919be5-17f0-403b-9988-143c9d73dea7",
   "metadata": {},
   "outputs": [
    {
     "data": {
      "image/png": "[encoded data removed]",
      "text/plain": [
       "<Figure size 640x480 with 1 Axes>"
      ]
     },
     "metadata": {},
     "output_type": "display_data"
    }
   ],
   "source": [
    "sns.histplot(df[\"normalized_engagmnet\"], kde=True)\n",
    "plt.title(\"Distribution of Engagment\")\n",
    "plt.xlabel(\"Number of Bookings\")\n",
    "plt.ylabel(\"Number of Users\")\n",
    "plt.show()"
   ]
  },
  {
   "cell_type": "code",
   "execution_count": 100,
   "id": "69e30701-c290-41ae-a4ce-9a01c9ada142",
   "metadata": {},
   "outputs": [
    {
     "data": {
      "image/png": "[encoded data removed]",
      "text/plain": [
       "<Figure size 640x480 with 1 Axes>"
      ]
     },
     "metadata": {},
     "output_type": "display_data"
    }
   ],
   "source": [
    "sns.histplot(df[\"recognized_mrr\"], kde=True)\n",
    "plt.title(\"Distribution of Engagment\")\n",
    "plt.xlabel(\"Number of Bookings\")\n",
    "plt.ylabel(\"Number of Users\")\n",
    "plt.show()"
   ]
  },
  {
   "cell_type": "code",
   "execution_count": 101,
   "id": "e5555051-1bd0-43fe-af8e-a61424e1fb84",
   "metadata": {},
   "outputs": [
    {
     "data": {
      "image/png": "[encoded data removed]",
      "text/plain": [
       "<Figure size 640x480 with 1 Axes>"
      ]
     },
     "metadata": {},
     "output_type": "display_data"
    }
   ],
   "source": [
    "# Define bin edges for histogram\n",
    "bins = np.linspace(0, 1, 11)  # 10 bins from 0 to 1\n",
    "\n",
    "# Plot histogram with grouped bars\n",
    "plt.hist([df[\"normalized_revenue\"], df[\"normalized_engagmnet\"]], bins=bins, label=[\"Scaled Revenue\", \"Engagement Score (Norm)\"], alpha=0.7, edgecolor=\"black\")\n",
    "\n",
    "# Add labels and title\n",
    "plt.xlabel(\"Value (0-1 Range)\")\n",
    "plt.ylabel(\"Number of Customers\")\n",
    "plt.title(\"Distribution of Scaled Revenue and Normalized Engagement Score\")\n",
    "plt.legend()\n",
    "\n",
    "# Show the plot\n",
    "plt.show()"
   ]
  },
  {
   "cell_type": "code",
   "execution_count": 102,
   "id": "ebc3b985-1e1e-4fa1-9496-a33cf98c6adf",
   "metadata": {},
   "outputs": [
    {
     "data": {
      "text/html": [
       "<div>\n",
       "<style scoped>\n",
       "    .dataframe tbody tr th:only-of-type {\n",
       "        vertical-align: middle;\n",
       "    }\n",
       "\n",
       "    .dataframe tbody tr th {\n",
       "        vertical-align: top;\n",
       "    }\n",
       "\n",
       "    .dataframe thead th {\n",
       "        text-align: right;\n",
       "    }\n",
       "</style>\n",
       "<table border=\"1\" class=\"dataframe\">\n",
       "  <thead>\n",
       "    <tr style=\"text-align: right;\">\n",
       "      <th></th>\n",
       "      <th>customer_id</th>\n",
       "      <th>cohort</th>\n",
       "      <th>price</th>\n",
       "      <th>price_name</th>\n",
       "      <th>commercial_type</th>\n",
       "      <th>invoicing_period_length</th>\n",
       "      <th>next_invoice_at</th>\n",
       "      <th>avg_3m_admin_bookings</th>\n",
       "      <th>avg_3m_user_bookings</th>\n",
       "      <th>city</th>\n",
       "      <th>...</th>\n",
       "      <th>normalized_revenue</th>\n",
       "      <th>engagement_score</th>\n",
       "      <th>price_usage_fit</th>\n",
       "      <th>churn_risk_score</th>\n",
       "      <th>churn_risk_quartiles</th>\n",
       "      <th>normalized_engagmnet</th>\n",
       "      <th>optimized_price</th>\n",
       "      <th>new_churn_risk_score</th>\n",
       "      <th>new_churn_risk_segments</th>\n",
       "      <th>price_change_%</th>\n",
       "    </tr>\n",
       "  </thead>\n",
       "  <tbody>\n",
       "    <tr>\n",
       "      <th>89</th>\n",
       "      <td>213</td>\n",
       "      <td>01/04/2022</td>\n",
       "      <td>99</td>\n",
       "      <td>Dynamic Platin 127€ monthly (20% discount)</td>\n",
       "      <td>jameda_platin</td>\n",
       "      <td>1</td>\n",
       "      <td>01/02/2025 00:00</td>\n",
       "      <td>5</td>\n",
       "      <td>6</td>\n",
       "      <td>Hamburg</td>\n",
       "      <td>...</td>\n",
       "      <td>0.505155</td>\n",
       "      <td>0.027113</td>\n",
       "      <td>13.611343</td>\n",
       "      <td>27.20913</td>\n",
       "      <td>High</td>\n",
       "      <td>0.016522</td>\n",
       "      <td>99.0</td>\n",
       "      <td>27.20913</td>\n",
       "      <td>High</td>\n",
       "      <td>0.0</td>\n",
       "    </tr>\n",
       "  </tbody>\n",
       "</table>\n",
       "<p>1 rows × 26 columns</p>\n",
       "</div>"
      ],
      "text/plain": [
       "    customer_id      cohort  price  \\\n",
       "89          213  01/04/2022     99   \n",
       "\n",
       "                                    price_name commercial_type  \\\n",
       "89  Dynamic Platin 127€ monthly (20% discount)   jameda_platin   \n",
       "\n",
       "    invoicing_period_length   next_invoice_at  avg_3m_admin_bookings  \\\n",
       "89                        1  01/02/2025 00:00                      5   \n",
       "\n",
       "    avg_3m_user_bookings     city  ...  normalized_revenue engagement_score  \\\n",
       "89                     6  Hamburg  ...            0.505155         0.027113   \n",
       "\n",
       "    price_usage_fit  churn_risk_score  churn_risk_quartiles  \\\n",
       "89        13.611343          27.20913                  High   \n",
       "\n",
       "    normalized_engagmnet  optimized_price  new_churn_risk_score  \\\n",
       "89              0.016522             99.0              27.20913   \n",
       "\n",
       "    new_churn_risk_segments  price_change_%  \n",
       "89                     High             0.0  \n",
       "\n",
       "[1 rows x 26 columns]"
      ]
     },
     "execution_count": 102,
     "metadata": {},
     "output_type": "execute_result"
    }
   ],
   "source": [
    "df.sort_values(by=\"normalized_revenue\", ascending = True).sample(1)"
   ]
  },
  {
   "cell_type": "code",
   "execution_count": 103,
   "id": "6c775dd2-5a9f-4286-b8e6-f8c6f93cceeb",
   "metadata": {},
   "outputs": [],
   "source": [
    "df_copy = df[[\n",
    "    \"customer_id\", \"cohort\", \"recognized_mrr\", \"price_name\", \"avg_3m_admin_bookings\", \"avg_3m_user_bookings\",\n",
    "    \"churn_risk_score\", \"churn_risk_quartiles\",\n",
    "    \"optimized_price\", \"new_churn_risk_score\", \"new_churn_risk_segments\", \"price_change_%\"\n",
    "]].copy()"
   ]
  },
  {
   "cell_type": "code",
   "execution_count": 55,
   "id": "a12f5732-a63d-4384-b49f-3ba2c8950c50",
   "metadata": {},
   "outputs": [],
   "source": [
    "df.to_csv(\"./My Projects/Full_Table_Konstanty-Mrozowski.csv\", index = False)\n",
    "df_copy.to_csv(\"./My Projects/Analysis_Results_Konstanty-Mrozowski.csv\", index = False)"
   ]
  },
  {
   "cell_type": "code",
   "execution_count": null,
   "id": "528d1a33-1c9d-4824-bdd1-3480f639d12d",
   "metadata": {},
   "outputs": [],
   "source": []
  },
  {
   "cell_type": "code",
   "execution_count": null,
   "id": "fda86259-b746-4b70-9e5a-9eb80d754d34",
   "metadata": {},
   "outputs": [],
   "source": []
  }
 ],
 "metadata": {
  "kernelspec": {
   "display_name": "Python (project_env)",
   "language": "python",
   "name": "project_env"
  },
  "language_info": {
   "codemirror_mode": {
    "name": "ipython",
    "version": 3
   },
   "file_extension": ".py",
   "mimetype": "text/x-python",
   "name": "python",
   "nbconvert_exporter": "python",
   "pygments_lexer": "ipython3",
   "version": "3.10.16"
  }
 },
 "nbformat": 4,
 "nbformat_minor": 5
}
