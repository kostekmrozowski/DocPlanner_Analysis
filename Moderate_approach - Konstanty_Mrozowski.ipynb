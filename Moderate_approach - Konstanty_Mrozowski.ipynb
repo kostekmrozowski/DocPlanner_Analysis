{
 "cells": [
  {
   "cell_type": "markdown",
   "id": "4d198c54-df02-4411-861c-98889c791b67",
   "metadata": {},
   "source": [
    "## Pricing Analysis - Moderat Approach"
   ]
  },
  {
   "cell_type": "markdown",
   "id": "2a3c6833-8f4c-4274-94c4-9434c86ba360",
   "metadata": {},
   "source": [
    "### Importing Libraries and Data"
   ]
  },
  {
   "cell_type": "code",
   "execution_count": 15,
   "id": "197ed1b8-3318-4622-990a-46c8f0efac53",
   "metadata": {},
   "outputs": [],
   "source": [
    "import pandas as pd\n",
    "import numpy as np\n",
    "import matplotlib.pyplot as plt\n",
    "import seaborn as sns"
   ]
  },
  {
   "cell_type": "code",
   "execution_count": 16,
   "id": "fbf98738-a978-4092-90bc-7ccfc32eacfb",
   "metadata": {},
   "outputs": [],
   "source": [
    "df = pd.read_csv(\"./Cleaned_data_pricing.csv\", encoding=\"utf-8\")"
   ]
  },
  {
   "cell_type": "code",
   "execution_count": 17,
   "id": "68030086-7aaa-4ca6-9a7b-02aa93a3603b",
   "metadata": {},
   "outputs": [
    {
     "name": "stdout",
     "output_type": "stream",
     "text": [
      "<class 'pandas.core.frame.DataFrame'>\n",
      "RangeIndex: 500 entries, 0 to 499\n",
      "Data columns (total 13 columns):\n",
      " #   Column                   Non-Null Count  Dtype \n",
      "---  ------                   --------------  ----- \n",
      " 0   customer_id              500 non-null    int64 \n",
      " 1   cohort                   500 non-null    object\n",
      " 2   price                    500 non-null    int64 \n",
      " 3   price_name               500 non-null    object\n",
      " 4   commercial_type          500 non-null    object\n",
      " 5   invoicing_period_length  500 non-null    int64 \n",
      " 6   next_invoice_at          500 non-null    object\n",
      " 7   avg_3m_admin_bookings    500 non-null    int64 \n",
      " 8   avg_3m_user_bookings     500 non-null    int64 \n",
      " 9   city                     500 non-null    object\n",
      " 10  city_id                  500 non-null    int64 \n",
      " 11  specialization_name      500 non-null    object\n",
      " 12  specialization_id        500 non-null    int64 \n",
      "dtypes: int64(7), object(6)\n",
      "memory usage: 50.9+ KB\n"
     ]
    }
   ],
   "source": [
    "df.info()"
   ]
  },
  {
   "cell_type": "markdown",
   "id": "a56557cd-f093-4ac3-a1e1-06b3d175e29e",
   "metadata": {},
   "source": [
    "\"Recognized_mrr\" should be understood here as recognized monthly reccuring revenue. \n",
    "I calculated it by dividing a price by invoicing period leng"
   ]
  },
  {
   "cell_type": "code",
   "execution_count": 18,
   "id": "a4011853-63eb-4da9-bf10-fa31c0d9c8a1",
   "metadata": {},
   "outputs": [],
   "source": [
    "df[\"recognized_mrr\"] = df[\"price\"] / df[\"invoicing_period_length\"]"
   ]
  },
  {
   "cell_type": "code",
   "execution_count": 19,
   "id": "6fc4432b-e9a3-410b-8b93-56005b341914",
   "metadata": {},
   "outputs": [
    {
     "data": {
      "text/html": [
       "<div>\n",
       "<style scoped>\n",
       "    .dataframe tbody tr th:only-of-type {\n",
       "        vertical-align: middle;\n",
       "    }\n",
       "\n",
       "    .dataframe tbody tr th {\n",
       "        vertical-align: top;\n",
       "    }\n",
       "\n",
       "    .dataframe thead th {\n",
       "        text-align: right;\n",
       "    }\n",
       "</style>\n",
       "<table border=\"1\" class=\"dataframe\">\n",
       "  <thead>\n",
       "    <tr style=\"text-align: right;\">\n",
       "      <th></th>\n",
       "      <th>customer_id</th>\n",
       "      <th>cohort</th>\n",
       "      <th>price</th>\n",
       "      <th>price_name</th>\n",
       "      <th>commercial_type</th>\n",
       "      <th>invoicing_period_length</th>\n",
       "      <th>next_invoice_at</th>\n",
       "      <th>avg_3m_admin_bookings</th>\n",
       "      <th>avg_3m_user_bookings</th>\n",
       "      <th>city</th>\n",
       "      <th>city_id</th>\n",
       "      <th>specialization_name</th>\n",
       "      <th>specialization_id</th>\n",
       "      <th>recognized_mrr</th>\n",
       "    </tr>\n",
       "  </thead>\n",
       "  <tbody>\n",
       "    <tr>\n",
       "      <th>299</th>\n",
       "      <td>471</td>\n",
       "      <td>01/12/2022</td>\n",
       "      <td>1188</td>\n",
       "      <td>GoldPro 1188€ annual</td>\n",
       "      <td>jameda_gold_pro</td>\n",
       "      <td>12</td>\n",
       "      <td>02/12/2025 00:00</td>\n",
       "      <td>334</td>\n",
       "      <td>16</td>\n",
       "      <td>Bonn</td>\n",
       "      <td>1756</td>\n",
       "      <td>Internist</td>\n",
       "      <td>36</td>\n",
       "      <td>99.0</td>\n",
       "    </tr>\n",
       "    <tr>\n",
       "      <th>458</th>\n",
       "      <td>463</td>\n",
       "      <td>01/05/2020</td>\n",
       "      <td>1188</td>\n",
       "      <td>Jameda import jameda_gold_pro 1188.00 m12</td>\n",
       "      <td>jameda_gold_pro</td>\n",
       "      <td>12</td>\n",
       "      <td>19/05/2025 00:00</td>\n",
       "      <td>0</td>\n",
       "      <td>20</td>\n",
       "      <td>München</td>\n",
       "      <td>1003</td>\n",
       "      <td>Zahnarzt</td>\n",
       "      <td>125</td>\n",
       "      <td>99.0</td>\n",
       "    </tr>\n",
       "    <tr>\n",
       "      <th>215</th>\n",
       "      <td>186</td>\n",
       "      <td>01/07/2024</td>\n",
       "      <td>58</td>\n",
       "      <td>Dynamic GoldPro 74€ monthly (25% discount)</td>\n",
       "      <td>jameda_gold_pro</td>\n",
       "      <td>1</td>\n",
       "      <td>25/02/2025 00:00</td>\n",
       "      <td>0</td>\n",
       "      <td>17</td>\n",
       "      <td>Neu-Ulm</td>\n",
       "      <td>1256</td>\n",
       "      <td>Zahnarzt</td>\n",
       "      <td>125</td>\n",
       "      <td>58.0</td>\n",
       "    </tr>\n",
       "    <tr>\n",
       "      <th>435</th>\n",
       "      <td>74</td>\n",
       "      <td>01/02/2020</td>\n",
       "      <td>1788</td>\n",
       "      <td>Dynamic Platin 1908€ annual</td>\n",
       "      <td>jameda_platin</td>\n",
       "      <td>12</td>\n",
       "      <td>01/06/2025 00:00</td>\n",
       "      <td>0</td>\n",
       "      <td>9</td>\n",
       "      <td>Darmstadt</td>\n",
       "      <td>1635</td>\n",
       "      <td>Zahnarzt</td>\n",
       "      <td>125</td>\n",
       "      <td>149.0</td>\n",
       "    </tr>\n",
       "    <tr>\n",
       "      <th>341</th>\n",
       "      <td>124</td>\n",
       "      <td>01/02/2020</td>\n",
       "      <td>1188</td>\n",
       "      <td>GoldPro 1188€ annual</td>\n",
       "      <td>jameda_gold_pro</td>\n",
       "      <td>12</td>\n",
       "      <td>15/02/2025 00:00</td>\n",
       "      <td>0</td>\n",
       "      <td>3</td>\n",
       "      <td>Bremen</td>\n",
       "      <td>1012</td>\n",
       "      <td>Mund-Kiefer-Gesichtschirurg</td>\n",
       "      <td>46</td>\n",
       "      <td>99.0</td>\n",
       "    </tr>\n",
       "  </tbody>\n",
       "</table>\n",
       "</div>"
      ],
      "text/plain": [
       "     customer_id      cohort  price  \\\n",
       "299          471  01/12/2022   1188   \n",
       "458          463  01/05/2020   1188   \n",
       "215          186  01/07/2024     58   \n",
       "435           74  01/02/2020   1788   \n",
       "341          124  01/02/2020   1188   \n",
       "\n",
       "                                     price_name  commercial_type  \\\n",
       "299                        GoldPro 1188€ annual  jameda_gold_pro   \n",
       "458   Jameda import jameda_gold_pro 1188.00 m12  jameda_gold_pro   \n",
       "215  Dynamic GoldPro 74€ monthly (25% discount)  jameda_gold_pro   \n",
       "435                 Dynamic Platin 1908€ annual    jameda_platin   \n",
       "341                        GoldPro 1188€ annual  jameda_gold_pro   \n",
       "\n",
       "     invoicing_period_length   next_invoice_at  avg_3m_admin_bookings  \\\n",
       "299                       12  02/12/2025 00:00                    334   \n",
       "458                       12  19/05/2025 00:00                      0   \n",
       "215                        1  25/02/2025 00:00                      0   \n",
       "435                       12  01/06/2025 00:00                      0   \n",
       "341                       12  15/02/2025 00:00                      0   \n",
       "\n",
       "     avg_3m_user_bookings       city  city_id          specialization_name  \\\n",
       "299                    16       Bonn     1756                    Internist   \n",
       "458                    20    München     1003                     Zahnarzt   \n",
       "215                    17    Neu-Ulm     1256                     Zahnarzt   \n",
       "435                     9  Darmstadt     1635                     Zahnarzt   \n",
       "341                     3     Bremen     1012  Mund-Kiefer-Gesichtschirurg   \n",
       "\n",
       "     specialization_id  recognized_mrr  \n",
       "299                 36            99.0  \n",
       "458                125            99.0  \n",
       "215                125            58.0  \n",
       "435                125           149.0  \n",
       "341                 46            99.0  "
      ]
     },
     "execution_count": 19,
     "metadata": {},
     "output_type": "execute_result"
    }
   ],
   "source": [
    "df.sample(5)"
   ]
  },
  {
   "cell_type": "markdown",
   "id": "3a7f4f4e-029d-400b-8f3d-513544c50656",
   "metadata": {},
   "source": [
    "### Standarizing values and defining formulas\n",
    "I used Min-Max normalization to improve model fitting and make potential correlations more observable.\n",
    "\n",
    "I also defined the Customer Engagement Score (CES) to measure customer activity. In the formula, admin bookings are weighted slightly lower than user bookings because user bookings may drive additional revenue. The Price-Usage Fit Score assesses how well a customer's payment aligns with their engagement. I included the 0.01 parameter to avoid division by zero errors.\n",
    "The Churn Risk Score is primarily influenced by price, with engagement acting as a counterbalance—lower pricing or higher engagement reduces churn risk."
   ]
  },
  {
   "cell_type": "code",
   "execution_count": 20,
   "id": "aa6c023b-3f3c-46d8-89c2-19dc545b893d",
   "metadata": {},
   "outputs": [],
   "source": [
    "def min_max_scale(column):\n",
    "    return (column - column.min()) / (column.max() - column.min())\n",
    "\n",
    "df[\"normalized_admin_bookings\"] = min_max_scale(df[\"avg_3m_admin_bookings\"])\n",
    "df[\"normalized_user_bookings\"] = min_max_scale(df[\"avg_3m_user_bookings\"])\n",
    "df[\"normalized_revenue\"] = min_max_scale(df[\"recognized_mrr\"])\n",
    "\n",
    "df[\"engagement_score\"] = (1 * df[\"normalized_admin_bookings\"]) + (1.25 * df[\"normalized_user_bookings\"])\n",
    "df[\"price_usage_fit\"] = df[\"normalized_revenue\"] / (df[\"engagement_score\"] + 0.01)  # Avoid division by zero\n",
    "df[\"churn_risk_score\"] = (2 * df[\"price_usage_fit\"]) - (0.5 * df[\"engagement_score\"])"
   ]
  },
  {
   "cell_type": "code",
   "execution_count": 21,
   "id": "ae9c7e71-9a74-4f8d-a900-53a71854386f",
   "metadata": {},
   "outputs": [
    {
     "data": {
      "text/html": [
       "<div>\n",
       "<style scoped>\n",
       "    .dataframe tbody tr th:only-of-type {\n",
       "        vertical-align: middle;\n",
       "    }\n",
       "\n",
       "    .dataframe tbody tr th {\n",
       "        vertical-align: top;\n",
       "    }\n",
       "\n",
       "    .dataframe thead th {\n",
       "        text-align: right;\n",
       "    }\n",
       "</style>\n",
       "<table border=\"1\" class=\"dataframe\">\n",
       "  <thead>\n",
       "    <tr style=\"text-align: right;\">\n",
       "      <th></th>\n",
       "      <th>customer_id</th>\n",
       "      <th>cohort</th>\n",
       "      <th>price</th>\n",
       "      <th>price_name</th>\n",
       "      <th>commercial_type</th>\n",
       "      <th>invoicing_period_length</th>\n",
       "      <th>next_invoice_at</th>\n",
       "      <th>avg_3m_admin_bookings</th>\n",
       "      <th>avg_3m_user_bookings</th>\n",
       "      <th>city</th>\n",
       "      <th>city_id</th>\n",
       "      <th>specialization_name</th>\n",
       "      <th>specialization_id</th>\n",
       "      <th>recognized_mrr</th>\n",
       "      <th>normalized_admin_bookings</th>\n",
       "      <th>normalized_user_bookings</th>\n",
       "      <th>normalized_revenue</th>\n",
       "      <th>engagement_score</th>\n",
       "      <th>price_usage_fit</th>\n",
       "      <th>churn_risk_score</th>\n",
       "    </tr>\n",
       "  </thead>\n",
       "  <tbody>\n",
       "    <tr>\n",
       "      <th>67</th>\n",
       "      <td>199</td>\n",
       "      <td>01/12/2020</td>\n",
       "      <td>99</td>\n",
       "      <td>Jameda import jameda_gold_pro 99.00 m1</td>\n",
       "      <td>jameda_gold_pro</td>\n",
       "      <td>1</td>\n",
       "      <td>21/02/2025 00:00</td>\n",
       "      <td>22</td>\n",
       "      <td>8</td>\n",
       "      <td>Halle</td>\n",
       "      <td>1715</td>\n",
       "      <td>Hals-Nasen-Ohren-Arzt</td>\n",
       "      <td>41</td>\n",
       "      <td>99.0</td>\n",
       "      <td>0.028387</td>\n",
       "      <td>0.022039</td>\n",
       "      <td>0.505155</td>\n",
       "      <td>0.055935</td>\n",
       "      <td>7.661368</td>\n",
       "      <td>15.294768</td>\n",
       "    </tr>\n",
       "  </tbody>\n",
       "</table>\n",
       "</div>"
      ],
      "text/plain": [
       "    customer_id      cohort  price                              price_name  \\\n",
       "67          199  01/12/2020     99  Jameda import jameda_gold_pro 99.00 m1   \n",
       "\n",
       "    commercial_type  invoicing_period_length   next_invoice_at  \\\n",
       "67  jameda_gold_pro                        1  21/02/2025 00:00   \n",
       "\n",
       "    avg_3m_admin_bookings  avg_3m_user_bookings   city  city_id  \\\n",
       "67                     22                     8  Halle     1715   \n",
       "\n",
       "      specialization_name  specialization_id  recognized_mrr  \\\n",
       "67  Hals-Nasen-Ohren-Arzt                 41            99.0   \n",
       "\n",
       "    normalized_admin_bookings  normalized_user_bookings  normalized_revenue  \\\n",
       "67                   0.028387                  0.022039            0.505155   \n",
       "\n",
       "    engagement_score  price_usage_fit  churn_risk_score  \n",
       "67          0.055935         7.661368         15.294768  "
      ]
     },
     "execution_count": 21,
     "metadata": {},
     "output_type": "execute_result"
    }
   ],
   "source": [
    "df.sample()"
   ]
  },
  {
   "cell_type": "markdown",
   "id": "043a0e70-7144-43bd-bba5-f1f701b21b02",
   "metadata": {},
   "source": [
    "### Dividing in Quartiles "
   ]
  },
  {
   "cell_type": "markdown",
   "id": "819ed777-0de8-484f-9bb6-58dc0a4bdcdb",
   "metadata": {},
   "source": [
    "I divided the Churn Risk Score into quartiles to categorize customers based on their likelihood of churn into four risk categories: Low, Medium, High and Critical"
   ]
  },
  {
   "cell_type": "code",
   "execution_count": 22,
   "id": "7501c378-04ae-4218-a202-af9459af83c9",
   "metadata": {},
   "outputs": [],
   "source": [
    "df[\"churn_risk_quartiles\"] = pd.qcut(df[\"churn_risk_score\"], q=4, labels=[\"Low\", \"Medium\", \"High\", \"Critical\"])"
   ]
  },
  {
   "cell_type": "markdown",
   "id": "405adf5d-376a-494a-985b-27382338f15d",
   "metadata": {},
   "source": [
    "### Holdplace for further EDA - do some graphs, check the distribution etc. "
   ]
  },
  {
   "cell_type": "markdown",
   "id": "c458298a-d85b-47c0-a9b4-0a72b179ef48",
   "metadata": {},
   "source": [
    "### Optimized Price and New Churn Risk Score Calculated\n",
    "\n",
    "The value assigned to medium_churn_threshold represents the highest churn risk score within the Low segment, meaning it equals to the customer with the highest churn likelihood still classified as \"Low\" risk. This basically sets the cap on that threshold, ensuring optimized pricing won't raise churn above its level."
   ]
  },
  {
   "cell_type": "code",
   "execution_count": 23,
   "id": "ba150e75-6253-4307-99be-79c40d8e3c51",
   "metadata": {},
   "outputs": [
    {
     "data": {
      "text/plain": [
       "5.531153474387166"
      ]
     },
     "execution_count": 23,
     "metadata": {},
     "output_type": "execute_result"
    }
   ],
   "source": [
    "low_churn_threshold = df[df[\"churn_risk_quartiles\"] == \"Low\"][\"churn_risk_score\"].max()\n",
    "low_churn_threshold"
   ]
  },
  {
   "cell_type": "markdown",
   "id": "38ed1ec0-72c8-4ca0-8068-cf6c6565f9bf",
   "metadata": {},
   "source": [
    "I've added minimal and maximal revenue/recognized mrr to be able to later map the optimized price from normalized values back to absolute revenue figures"
   ]
  },
  {
   "cell_type": "code",
   "execution_count": 24,
   "id": "09f4678c-86f1-447e-9ebf-c96645b0af14",
   "metadata": {},
   "outputs": [],
   "source": [
    "df[\"normalized_engagmnet\"] = min_max_scale(df[\"engagement_score\"])\n",
    "min_revenue, max_revenue = df[\"recognized_mrr\"].min(), df[\"recognized_mrr\"].max()"
   ]
  },
  {
   "cell_type": "markdown",
   "id": "09b83a42-6a10-4f8a-bae8-08e2990918aa",
   "metadata": {},
   "source": [
    "### Computing Optimal Price\n",
    "I adjusted prices for customers in the Low churn risk segments while keeping others unchanged. The maximum price is capped at 195 (Platinum Package). The threshold for price increases is set at a churn risk score of 5.53115 (described before), which corresponds to the last customer in the Medium risk category. If the calculated price exceeds $195, the function caps it and recalculates the churn risk score."
   ]
  },
  {
   "cell_type": "code",
   "execution_count": 25,
   "id": "de8af004-33c1-4511-b724-9a6a21d40b38",
   "metadata": {},
   "outputs": [],
   "source": [
    "def compute_optimal_price(row):\n",
    "    if row[\"churn_risk_quartiles\"] not in [\"Low\"]:\n",
    "        return row[\"recognized_mrr\"], row[\"churn_risk_score\"]\n",
    "\n",
    "    engagement_score_normalized = row[\"normalized_engagmnet\"]\n",
    "    target_price_usage_fit = (low_churn_threshold + (0.5 * engagement_score_normalized)) / 2\n",
    "    new_normalized_revenue = target_price_usage_fit * (engagement_score_normalized + 0.01)\n",
    "    new_price = (new_normalized_revenue * (max_revenue - min_revenue)) + min_revenue\n",
    "\n",
    "    if new_price > 195:\n",
    "        new_price = 195\n",
    "        capped_normalized_revenue = (new_price - min_revenue) / (max_revenue - min_revenue)\n",
    "        new_normalized_price_usage_score = capped_normalized_revenue / (engagement_score_normalized + 0.01)\n",
    "        new_churn_risk_score = (2 * new_normalized_price_usage_score) - (0.5 * engagement_score_normalized)\n",
    "    else:\n",
    "        new_churn_risk_score = low_churn_threshold\n",
    "\n",
    "    new_price = max(new_price, row[\"recognized_mrr\"])\n",
    "    new_churn_risk_score = max(new_churn_risk_score, row[\"churn_risk_score\"])\n",
    "\n",
    "    return round(new_price, 2), round(new_churn_risk_score, 4)\n",
    "\n",
    "df[[\"optimized_price\", \"new_churn_risk_score\"]] = df.apply(\n",
    "    lambda row: compute_optimal_price(row), axis=1, result_type=\"expand\")"
   ]
  },
  {
   "cell_type": "code",
   "execution_count": 26,
   "id": "2dfa94e6-e015-4cc0-802c-aba26701e29b",
   "metadata": {},
   "outputs": [
    {
     "data": {
      "text/html": [
       "<div>\n",
       "<style scoped>\n",
       "    .dataframe tbody tr th:only-of-type {\n",
       "        vertical-align: middle;\n",
       "    }\n",
       "\n",
       "    .dataframe tbody tr th {\n",
       "        vertical-align: top;\n",
       "    }\n",
       "\n",
       "    .dataframe thead th {\n",
       "        text-align: right;\n",
       "    }\n",
       "</style>\n",
       "<table border=\"1\" class=\"dataframe\">\n",
       "  <thead>\n",
       "    <tr style=\"text-align: right;\">\n",
       "      <th></th>\n",
       "      <th>customer_id</th>\n",
       "      <th>cohort</th>\n",
       "      <th>price</th>\n",
       "      <th>price_name</th>\n",
       "      <th>commercial_type</th>\n",
       "      <th>invoicing_period_length</th>\n",
       "      <th>next_invoice_at</th>\n",
       "      <th>avg_3m_admin_bookings</th>\n",
       "      <th>avg_3m_user_bookings</th>\n",
       "      <th>city</th>\n",
       "      <th>...</th>\n",
       "      <th>normalized_admin_bookings</th>\n",
       "      <th>normalized_user_bookings</th>\n",
       "      <th>normalized_revenue</th>\n",
       "      <th>engagement_score</th>\n",
       "      <th>price_usage_fit</th>\n",
       "      <th>churn_risk_score</th>\n",
       "      <th>churn_risk_quartiles</th>\n",
       "      <th>normalized_engagmnet</th>\n",
       "      <th>optimized_price</th>\n",
       "      <th>new_churn_risk_score</th>\n",
       "    </tr>\n",
       "  </thead>\n",
       "  <tbody>\n",
       "    <tr>\n",
       "      <th>286</th>\n",
       "      <td>85</td>\n",
       "      <td>01/08/2020</td>\n",
       "      <td>1188</td>\n",
       "      <td>Jameda import jameda_gold_pro 1188.00 m12</td>\n",
       "      <td>jameda_gold_pro</td>\n",
       "      <td>12</td>\n",
       "      <td>05/01/2025 00:00</td>\n",
       "      <td>303</td>\n",
       "      <td>363</td>\n",
       "      <td>Berlin</td>\n",
       "      <td>...</td>\n",
       "      <td>0.390968</td>\n",
       "      <td>1.0</td>\n",
       "      <td>0.505155</td>\n",
       "      <td>1.640968</td>\n",
       "      <td>0.305975</td>\n",
       "      <td>-0.208534</td>\n",
       "      <td>Low</td>\n",
       "      <td>1.0</td>\n",
       "      <td>195.0</td>\n",
       "      <td>1.4802</td>\n",
       "    </tr>\n",
       "  </tbody>\n",
       "</table>\n",
       "<p>1 rows × 24 columns</p>\n",
       "</div>"
      ],
      "text/plain": [
       "     customer_id      cohort  price  \\\n",
       "286           85  01/08/2020   1188   \n",
       "\n",
       "                                    price_name  commercial_type  \\\n",
       "286  Jameda import jameda_gold_pro 1188.00 m12  jameda_gold_pro   \n",
       "\n",
       "     invoicing_period_length   next_invoice_at  avg_3m_admin_bookings  \\\n",
       "286                       12  05/01/2025 00:00                    303   \n",
       "\n",
       "     avg_3m_user_bookings    city  ...  normalized_admin_bookings  \\\n",
       "286                   363  Berlin  ...                   0.390968   \n",
       "\n",
       "    normalized_user_bookings  normalized_revenue  engagement_score  \\\n",
       "286                      1.0            0.505155          1.640968   \n",
       "\n",
       "     price_usage_fit  churn_risk_score  churn_risk_quartiles  \\\n",
       "286         0.305975         -0.208534                   Low   \n",
       "\n",
       "     normalized_engagmnet  optimized_price  new_churn_risk_score  \n",
       "286                   1.0            195.0                1.4802  \n",
       "\n",
       "[1 rows x 24 columns]"
      ]
     },
     "execution_count": 26,
     "metadata": {},
     "output_type": "execute_result"
    }
   ],
   "source": [
    "df.sort_values([\"new_churn_risk_score\"]).head(1)"
   ]
  },
  {
   "cell_type": "markdown",
   "id": "eb2ea5b5-cf26-4be8-af8e-f547d5c5fc6e",
   "metadata": {},
   "source": [
    "### Dividing new churn risk into quartiles - to do if needed"
   ]
  },
  {
   "cell_type": "markdown",
   "id": "673c80ba-d7c0-46e8-b41a-0695d4c139b1",
   "metadata": {},
   "source": [
    "### Analysis on viability and impact of the price change\n",
    "I selected customers in the Low churn risk segments and calculated their total current revenue (price change only involved them). Then, I calculated the total revenue based on the optimized price. I sorted these customers by new churn risk score in descending order for removing higher-risk customers first.\n",
    "\n",
    "Next, the function iteratively removes customers from the dataset, reducing revenue by their optimized price, until the remaining revenue matches the current total. I counted the number of customers removed to determine the break-even churn count (how many of these customers would need to churn for the investment to not make sense). Finally, I calculated the revenue difference between the optimized and current revenue and the break-even churn rate for the selected segment."
   ]
  },
  {
   "cell_type": "code",
   "execution_count": 27,
   "id": "1b5ab5e0-0f32-451d-976e-4aa8fb40573e",
   "metadata": {},
   "outputs": [
    {
     "name": "stdout",
     "output_type": "stream",
     "text": [
      "Total Current Revenue (Low Risk): 11,727.23\n",
      "Total Optimized Revenue (Low Risk / Before Churn): 15,252.42\n",
      "Revenue Increase (Optimized - Current): 3,525.19\n",
      "Break-Even Churn Count (Low Risk): 30 customers\n",
      "Break-Even Churn Rate (Low Risk): 24.00%\n"
     ]
    }
   ],
   "source": [
    "df_filtered = df[df[\"churn_risk_quartiles\"].isin([\"Low\"])].copy()\n",
    "total_current_revenue = df_filtered[\"recognized_mrr\"].sum()\n",
    "total_optimized_revenue = df_filtered[\"optimized_price\"].sum()\n",
    "\n",
    "df_filtered = df_filtered.sort_values(by=\"new_churn_risk_score\", ascending=False)\n",
    "\n",
    "cumulative_churned = 0\n",
    "cumulative_new_revenue = total_optimized_revenue\n",
    "\n",
    "for index, row in df_filtered.iterrows():\n",
    "    if cumulative_new_revenue <= total_current_revenue:\n",
    "        break  \n",
    "    \n",
    "    cumulative_new_revenue -= row[\"optimized_price\"]\n",
    "    cumulative_churned += 1\n",
    "\n",
    "\n",
    "revenue_difference = total_optimized_revenue - total_current_revenue\n",
    "\n",
    "print(f\"Total Current Revenue (Low Risk): {total_current_revenue:,.2f}\")\n",
    "print(f\"Total Optimized Revenue (Low Risk / Before Churn): {total_optimized_revenue:,.2f}\")\n",
    "print(f\"Revenue Increase (Optimized - Current): {revenue_difference:,.2f}\")\n",
    "print(f\"Break-Even Churn Count (Low Risk): {cumulative_churned} customers\")\n",
    "print(f\"Break-Even Churn Rate (Low Risk): {cumulative_churned / len(df_filtered):.2%}\")"
   ]
  },
  {
   "cell_type": "code",
   "execution_count": 28,
   "id": "936f787d-8e7a-4794-b75b-2b5c0ee7e5f9",
   "metadata": {},
   "outputs": [
    {
     "name": "stdout",
     "output_type": "stream",
     "text": [
      "Total Current Revenue: 50,620.22\n",
      "Total Optimized Revenue: 54,145.40\n",
      "Total Revenue Increase (Optimized - Current): 3,525.19\n",
      "Total Revenue Change in %: 6.96\n"
     ]
    }
   ],
   "source": [
    "total_current_revenue = df[\"recognized_mrr\"].sum()\n",
    "total_optimized_revenue = df[\"optimized_price\"].sum()\n",
    "total_revenue_increase = df[\"optimized_price\"].sum() - df[\"recognized_mrr\"].sum()\n",
    "total_revenue_change_perc = ((total_optimized_revenue / total_current_revenue) - 1)*100\n",
    "\n",
    "print(f\"Total Current Revenue: {total_current_revenue:,.2f}\")\n",
    "print(f\"Total Optimized Revenue: {total_optimized_revenue:,.2f}\")\n",
    "print(f\"Total Revenue Increase (Optimized - Current): {total_revenue_increase:,.2f}\")\n",
    "print(f\"Total Revenue Change in %: {total_revenue_change_perc:,.2f}\")"
   ]
  },
  {
   "cell_type": "markdown",
   "id": "6e1c1983-36c0-4df7-b444-db0eda48d08b",
   "metadata": {},
   "source": [
    "### Final Remarks\n",
    "After applying the optimized pricing model, total revenue increased from 50,620.22 to 54,145.40, a 6.96% increase. \n",
    "\n",
    "Among customers in the Low churn risk segments, revenue before churn increased from 11,727.23 to 15,252.42,  \n",
    "\n",
    "To maintain the original revenue level after churn (optimized revenue = current revenue), 30 customers from Low Risk Customers (24% churn rate within these segments) would need to leave."
   ]
  },
  {
   "cell_type": "code",
   "execution_count": 29,
   "id": "fd63249e-b407-498b-9b84-3904f1eda6be",
   "metadata": {},
   "outputs": [
    {
     "data": {
      "text/html": [
       "<div>\n",
       "<style scoped>\n",
       "    .dataframe tbody tr th:only-of-type {\n",
       "        vertical-align: middle;\n",
       "    }\n",
       "\n",
       "    .dataframe tbody tr th {\n",
       "        vertical-align: top;\n",
       "    }\n",
       "\n",
       "    .dataframe thead th {\n",
       "        text-align: right;\n",
       "    }\n",
       "</style>\n",
       "<table border=\"1\" class=\"dataframe\">\n",
       "  <thead>\n",
       "    <tr style=\"text-align: right;\">\n",
       "      <th></th>\n",
       "      <th>customer_id</th>\n",
       "      <th>cohort</th>\n",
       "      <th>price</th>\n",
       "      <th>price_name</th>\n",
       "      <th>commercial_type</th>\n",
       "      <th>invoicing_period_length</th>\n",
       "      <th>next_invoice_at</th>\n",
       "      <th>avg_3m_admin_bookings</th>\n",
       "      <th>avg_3m_user_bookings</th>\n",
       "      <th>city</th>\n",
       "      <th>...</th>\n",
       "      <th>normalized_admin_bookings</th>\n",
       "      <th>normalized_user_bookings</th>\n",
       "      <th>normalized_revenue</th>\n",
       "      <th>engagement_score</th>\n",
       "      <th>price_usage_fit</th>\n",
       "      <th>churn_risk_score</th>\n",
       "      <th>churn_risk_quartiles</th>\n",
       "      <th>normalized_engagmnet</th>\n",
       "      <th>optimized_price</th>\n",
       "      <th>new_churn_risk_score</th>\n",
       "    </tr>\n",
       "  </thead>\n",
       "  <tbody>\n",
       "    <tr>\n",
       "      <th>0</th>\n",
       "      <td>399</td>\n",
       "      <td>01/07/2024</td>\n",
       "      <td>99</td>\n",
       "      <td>GoldPro 99€ monthly</td>\n",
       "      <td>jameda_gold_pro</td>\n",
       "      <td>1</td>\n",
       "      <td>28/02/2025 00:00</td>\n",
       "      <td>0</td>\n",
       "      <td>15</td>\n",
       "      <td>Hessen</td>\n",
       "      <td>...</td>\n",
       "      <td>0.0</td>\n",
       "      <td>0.041322</td>\n",
       "      <td>0.505155</td>\n",
       "      <td>0.051653</td>\n",
       "      <td>8.193527</td>\n",
       "      <td>16.361228</td>\n",
       "      <td>High</td>\n",
       "      <td>0.031477</td>\n",
       "      <td>99.0</td>\n",
       "      <td>16.361228</td>\n",
       "    </tr>\n",
       "  </tbody>\n",
       "</table>\n",
       "<p>1 rows × 24 columns</p>\n",
       "</div>"
      ],
      "text/plain": [
       "   customer_id      cohort  price           price_name  commercial_type  \\\n",
       "0          399  01/07/2024     99  GoldPro 99€ monthly  jameda_gold_pro   \n",
       "\n",
       "   invoicing_period_length   next_invoice_at  avg_3m_admin_bookings  \\\n",
       "0                        1  28/02/2025 00:00                      0   \n",
       "\n",
       "   avg_3m_user_bookings    city  ...  normalized_admin_bookings  \\\n",
       "0                    15  Hessen  ...                        0.0   \n",
       "\n",
       "  normalized_user_bookings  normalized_revenue  engagement_score  \\\n",
       "0                 0.041322            0.505155          0.051653   \n",
       "\n",
       "   price_usage_fit  churn_risk_score  churn_risk_quartiles  \\\n",
       "0         8.193527         16.361228                  High   \n",
       "\n",
       "   normalized_engagmnet  optimized_price  new_churn_risk_score  \n",
       "0              0.031477             99.0             16.361228  \n",
       "\n",
       "[1 rows x 24 columns]"
      ]
     },
     "execution_count": 29,
     "metadata": {},
     "output_type": "execute_result"
    }
   ],
   "source": [
    "df.head(1)"
   ]
  },
  {
   "cell_type": "code",
   "execution_count": 30,
   "id": "42057235-595e-402d-b219-1aba965731ea",
   "metadata": {},
   "outputs": [],
   "source": [
    "df_copy = df[[\n",
    "    \"customer_id\", \"cohort\", \"recognized_mrr\", \"price_name\", \"avg_3m_admin_bookings\", \"avg_3m_user_bookings\",\n",
    "    \"churn_risk_score\", \"churn_risk_quartiles\",\n",
    "    \"optimized_price\", \"new_churn_risk_score\"\n",
    "]].copy()"
   ]
  },
  {
   "cell_type": "code",
   "execution_count": 31,
   "id": "2481d47d-c6cc-46eb-9b4a-ee318ab321ba",
   "metadata": {},
   "outputs": [],
   "source": [
    "df_copy.to_csv(\"./My Projects/calc_results_table.csv\", index = False)\n",
    "df.to_csv(\"./My Projects/full_data_table.csv\", index = False)"
   ]
  },
  {
   "cell_type": "markdown",
   "id": "bfe0228b-e51a-448f-b99b-bff6ed367ec1",
   "metadata": {},
   "source": [
    "### Additional Useful Information Preperation"
   ]
  },
  {
   "cell_type": "code",
   "execution_count": 32,
   "id": "ebc3b985-1e1e-4fa1-9496-a33cf98c6adf",
   "metadata": {
    "scrolled": true
   },
   "outputs": [
    {
     "data": {
      "text/html": [
       "<div>\n",
       "<style scoped>\n",
       "    .dataframe tbody tr th:only-of-type {\n",
       "        vertical-align: middle;\n",
       "    }\n",
       "\n",
       "    .dataframe tbody tr th {\n",
       "        vertical-align: top;\n",
       "    }\n",
       "\n",
       "    .dataframe thead th {\n",
       "        text-align: right;\n",
       "    }\n",
       "</style>\n",
       "<table border=\"1\" class=\"dataframe\">\n",
       "  <thead>\n",
       "    <tr style=\"text-align: right;\">\n",
       "      <th></th>\n",
       "      <th>customer_id</th>\n",
       "      <th>cohort</th>\n",
       "      <th>price</th>\n",
       "      <th>price_name</th>\n",
       "      <th>commercial_type</th>\n",
       "      <th>invoicing_period_length</th>\n",
       "      <th>next_invoice_at</th>\n",
       "      <th>avg_3m_admin_bookings</th>\n",
       "      <th>avg_3m_user_bookings</th>\n",
       "      <th>city</th>\n",
       "      <th>...</th>\n",
       "      <th>normalized_admin_bookings</th>\n",
       "      <th>normalized_user_bookings</th>\n",
       "      <th>normalized_revenue</th>\n",
       "      <th>engagement_score</th>\n",
       "      <th>price_usage_fit</th>\n",
       "      <th>churn_risk_score</th>\n",
       "      <th>churn_risk_quartiles</th>\n",
       "      <th>normalized_engagmnet</th>\n",
       "      <th>optimized_price</th>\n",
       "      <th>new_churn_risk_score</th>\n",
       "    </tr>\n",
       "  </thead>\n",
       "  <tbody>\n",
       "    <tr>\n",
       "      <th>4</th>\n",
       "      <td>185</td>\n",
       "      <td>01/06/2023</td>\n",
       "      <td>159</td>\n",
       "      <td>Platin 159€ monthly</td>\n",
       "      <td>jameda_platin</td>\n",
       "      <td>1</td>\n",
       "      <td>22/02/2025 00:00</td>\n",
       "      <td>0</td>\n",
       "      <td>1</td>\n",
       "      <td>Püttlingen</td>\n",
       "      <td>...</td>\n",
       "      <td>0.0</td>\n",
       "      <td>0.002755</td>\n",
       "      <td>0.814433</td>\n",
       "      <td>0.003444</td>\n",
       "      <td>60.581798</td>\n",
       "      <td>121.161875</td>\n",
       "      <td>Critical</td>\n",
       "      <td>0.002098</td>\n",
       "      <td>159.0</td>\n",
       "      <td>121.161875</td>\n",
       "    </tr>\n",
       "  </tbody>\n",
       "</table>\n",
       "<p>1 rows × 24 columns</p>\n",
       "</div>"
      ],
      "text/plain": [
       "   customer_id      cohort  price           price_name commercial_type  \\\n",
       "4          185  01/06/2023    159  Platin 159€ monthly   jameda_platin   \n",
       "\n",
       "   invoicing_period_length   next_invoice_at  avg_3m_admin_bookings  \\\n",
       "4                        1  22/02/2025 00:00                      0   \n",
       "\n",
       "   avg_3m_user_bookings        city  ...  normalized_admin_bookings  \\\n",
       "4                     1  Püttlingen  ...                        0.0   \n",
       "\n",
       "  normalized_user_bookings  normalized_revenue  engagement_score  \\\n",
       "4                 0.002755            0.814433          0.003444   \n",
       "\n",
       "   price_usage_fit  churn_risk_score  churn_risk_quartiles  \\\n",
       "4        60.581798        121.161875              Critical   \n",
       "\n",
       "   normalized_engagmnet  optimized_price  new_churn_risk_score  \n",
       "4              0.002098            159.0            121.161875  \n",
       "\n",
       "[1 rows x 24 columns]"
      ]
     },
     "execution_count": 32,
     "metadata": {},
     "output_type": "execute_result"
    }
   ],
   "source": [
    "df.sort_values(by=\"normalized_revenue\", ascending = True).sample(1)"
   ]
  },
  {
   "cell_type": "code",
   "execution_count": 33,
   "id": "b24fbe9d-4a8f-4d25-8edd-86249371d1f0",
   "metadata": {},
   "outputs": [],
   "source": [
    "thresholds = df['churn_risk_score'].quantile([0.25, 0.50, 0.75]).tolist()\n",
    "q1, q2, q3 = thresholds\n",
    "\n",
    "def assign_risk_category(score, q1, q2, q3):\n",
    "    if score <= q1:\n",
    "        return 'Low'\n",
    "    elif score <= q2:\n",
    "        return 'Medium'\n",
    "    elif score <= q3:\n",
    "        return 'High'\n",
    "    else:\n",
    "        return 'Critical'\n",
    "\n",
    "df['new_churn_risk_segments'] = df['new_churn_risk_score'].apply(lambda x: assign_risk_category(x, q1, q2, q3))"
   ]
  },
  {
   "cell_type": "code",
   "execution_count": 34,
   "id": "931f9bb8-d2dd-4e5b-843b-ded63f2d6b68",
   "metadata": {},
   "outputs": [],
   "source": [
    "df[\"price_change_%\"] = ((df[\"optimized_price\"] / df[\"recognized_mrr\"]) - 1)*100"
   ]
  },
  {
   "cell_type": "code",
   "execution_count": null,
   "id": "4682da90-2a7f-40f6-b801-3c59c0039f64",
   "metadata": {},
   "outputs": [],
   "source": []
  }
 ],
 "metadata": {
  "kernelspec": {
   "display_name": "Python (project_env)",
   "language": "python",
   "name": "project_env"
  },
  "language_info": {
   "codemirror_mode": {
    "name": "ipython",
    "version": 3
   },
   "file_extension": ".py",
   "mimetype": "text/x-python",
   "name": "python",
   "nbconvert_exporter": "python",
   "pygments_lexer": "ipython3",
   "version": "3.10.16"
  }
 },
 "nbformat": 4,
 "nbformat_minor": 5
}
